{
 "cells": [
  {
   "cell_type": "markdown",
   "id": "a1aef29b",
   "metadata": {},
   "source": [
    "`Дисциплина: Методы и технологии машинного обучения`   \n",
    "`Уровень подготовки: бакалавриат`   \n",
    "`Направление подготовки: 01.03.02 Прикладная математика и информатика`   \n",
    "`Семестр: осень 2021/2022`   \n",
    "\n",
    "\n",
    "\n",
    "\n",
    "# Лабораторная работа №3: Линейные модели. Кросс-валидация. \n",
    "\n",
    "В практических примерах ниже показано:   \n",
    "\n",
    "* как пользоваться инструментами предварительного анализа для поиска линейных взаимосвязей \n",
    "* как строить и интерпретировать линейные модели с логарифмами  \n",
    "* как оценивать точность моделей с перекрёстной проверкой (LOOCV, проверка по блокам)\n",
    "\n",
    "*Модели*: множественная линейная регрессия \n",
    "*Данные*: `insurance` (источник: <https://www.kaggle.com/mirichoi0218/insurance/version/1>)"
   ]
  },
  {
   "cell_type": "code",
   "execution_count": null,
   "id": "701db136",
   "metadata": {},
   "outputs": [],
   "source": [
    "# настройка ширины страницы блокнота .......................................\n",
    "from IPython.core.display import display, HTML\n",
    "display(HTML(\"<style>.container { width:80% !important; }</style>\"))"
   ]
  },
  {
   "cell_type": "markdown",
   "id": "61b9ab5d",
   "metadata": {},
   "source": [
    "# Указания к выполнению\n",
    "\n",
    "\n",
    "## Загружаем пакеты"
   ]
  },
  {
   "cell_type": "code",
   "execution_count": null,
   "id": "c8fa189c",
   "metadata": {},
   "outputs": [],
   "source": [
    "# загрузка пакетов: инструменты --------------------------------------------\n",
    "#  работа с массивами\n",
    "import numpy as np\n",
    "#  фреймы данных\n",
    "import pandas as pd\n",
    "#  графики\n",
    "import matplotlib as mpl\n",
    "#  стили и шаблоны графиков на основе matplotlib\n",
    "import seaborn as sns\n",
    "# перекодировка категориальных переменных\n",
    "from sklearn.preprocessing import LabelEncoder\n",
    "#  тест Шапиро-Уилка на нормальность распределения\n",
    "from scipy.stats import shapiro\n",
    "#  для таймера\n",
    "import time\n",
    "\n",
    "# загрузка пакетов: модели -------------------------------------------------\n",
    "#  линейные модели\n",
    "import sklearn.linear_model as skl_lm\n",
    "#  расчёт MSE\n",
    "from sklearn.metrics import mean_squared_error\n",
    "#  кросс-валидация\n",
    "from sklearn.model_selection import train_test_split, LeaveOneOut \n",
    "from sklearn.model_selection import KFold, cross_val_score\n",
    "#  полиномиальные модели\n",
    "from sklearn.preprocessing import PolynomialFeatures"
   ]
  },
  {
   "cell_type": "code",
   "execution_count": null,
   "id": "43a4a48e",
   "metadata": {},
   "outputs": [],
   "source": [
    "# константы\n",
    "#  ядро для генератора случайных чисел\n",
    "my_seed = 9212\n",
    "#  создаём псевдоним для короткого обращения к графикам\n",
    "plt = mpl.pyplot\n",
    "# настройка стиля и отображения графиков\n",
    "#  примеры стилей и шаблонов графиков: \n",
    "#  http://tonysyu.github.io/raw_content/matplotlib-style-gallery/gallery.html\n",
    "mpl.style.use('seaborn-whitegrid')\n",
    "sns.set_palette(\"Set2\")\n",
    "# раскомментируйте следующую строку, чтобы посмотреть палитру\n",
    "# sns.color_palette(\"Set2\")"
   ]
  },
  {
   "cell_type": "markdown",
   "id": "87618f1b",
   "metadata": {},
   "source": [
    "## Загружаем данные\n",
    "\n",
    "Набор данных `insurance` в формате .csv доступен для загрузки по адресу: <https://raw.githubusercontent.com/aksyuk/MTML/main/Labs/data/insurance.csv>. Справочник к данным: <https://github.com/aksyuk/MTML/blob/main/Labs/data/CodeBook_insurance.md>.  \n",
    "Загружаем данные во фрейм и кодируем категориальные переменные.  "
   ]
  },
  {
   "cell_type": "code",
   "execution_count": null,
   "id": "a7e42f2c",
   "metadata": {},
   "outputs": [],
   "source": [
    "# читаем таблицу из файла .csv во фрейм\n",
    "fileURL = 'https://raw.githubusercontent.com/aksyuk/MTML/main/Labs/data/insurance.csv'\n",
    "DF_raw = \n",
    "\n",
    "# выясняем размерность фрейма\n",
    "print('Число строк и столбцов в наборе данных:\\n', DF_raw.shape)"
   ]
  },
  {
   "cell_type": "code",
   "execution_count": null,
   "id": "2c2eedc8",
   "metadata": {},
   "outputs": [],
   "source": [
    "# первые 5 строк фрейма\n"
   ]
  },
  {
   "cell_type": "code",
   "execution_count": null,
   "id": "1e97a472",
   "metadata": {},
   "outputs": [],
   "source": [
    "# типы столбцов фрейма\n"
   ]
  },
  {
   "cell_type": "markdown",
   "id": "d4a540a2",
   "metadata": {},
   "source": [
    "Проверим, нет ли в таблице пропусков.  "
   ]
  },
  {
   "cell_type": "code",
   "execution_count": null,
   "id": "42a96cd9",
   "metadata": {},
   "outputs": [],
   "source": [
    "# считаем пропуски в каждом столбце\n"
   ]
  },
  {
   "cell_type": "markdown",
   "id": "2941191c",
   "metadata": {},
   "source": [
    "Пропусков не обнаружено.  "
   ]
  },
  {
   "cell_type": "code",
   "execution_count": null,
   "id": "30cc908a",
   "metadata": {},
   "outputs": [],
   "source": [
    "# кодируем категориальные переменные\n",
    "#  пол\n",
    "sex_dict = \n",
    "DF_raw['sexFemale'] = \n",
    "\n",
    "#  курильщик\n",
    "yn_dict = \n",
    "DF_raw['smokerYes'] = \n",
    "\n",
    "# находим уникальные регионы\n"
   ]
  },
  {
   "cell_type": "code",
   "execution_count": null,
   "id": "2248ff71",
   "metadata": {},
   "outputs": [],
   "source": [
    "#  добавляем фиктивные на регион: число фиктивных = число уникальных - 1\n",
    "df_dummy = \n",
    "df_dummy.head(5)"
   ]
  },
  {
   "cell_type": "code",
   "execution_count": null,
   "id": "64722843",
   "metadata": {},
   "outputs": [],
   "source": [
    "# объединяем с исходным фреймом\n",
    "DF_all = \n",
    "\n",
    "# сколько теперь столбцов\n",
    "DF_all.shape"
   ]
  },
  {
   "cell_type": "code",
   "execution_count": null,
   "id": "9a09c451",
   "metadata": {},
   "outputs": [],
   "source": [
    "# смотрим первые 8 столбцов\n",
    "DF_all.iloc[:, :8].head(5)"
   ]
  },
  {
   "cell_type": "code",
   "execution_count": null,
   "id": "105f8368",
   "metadata": {},
   "outputs": [],
   "source": [
    "# смотрим последние 5 столбцов\n",
    "DF_all.iloc[:, 8:].head(5)"
   ]
  },
  {
   "cell_type": "code",
   "execution_count": null,
   "id": "3d95125d",
   "metadata": {},
   "outputs": [],
   "source": [
    "# оставляем в наборе данных только то, что нужно \n",
    "#  (плюс метки регионов для графиков)\n",
    "DF_all = DF_all[['charges', 'age', 'sexFemale', 'bmi', 'children', 'smokerYes', \n",
    "                 'region_northwest', 'region_southeast',\n",
    "                 'region_southwest', 'region']]\n",
    "\n",
    "# перекодируем регион в числовой фактор, \n",
    "#  чтобы использовать на графиках\n",
    "class_le = \n",
    "DF_all['region'] = \n",
    "\n",
    "DF_all.columns"
   ]
  },
  {
   "cell_type": "code",
   "execution_count": null,
   "id": "fc8ced80",
   "metadata": {},
   "outputs": [],
   "source": [
    "DF_all.dtypes"
   ]
  },
  {
   "cell_type": "code",
   "execution_count": null,
   "id": "55cd689c",
   "metadata": {},
   "outputs": [],
   "source": [
    "# удаляем фрейм-исходник\n"
   ]
  },
  {
   "cell_type": "markdown",
   "id": "3e2e4cdb",
   "metadata": {},
   "source": [
    "Прежде чем переходить к анализу данных, разделим фрейм на две части: одна (90%) станет основой для обучения моделей, на вторую (10%) мы сделаем прогноз по лучшей модели.  "
   ]
  },
  {
   "cell_type": "code",
   "execution_count": null,
   "id": "f42f55d0",
   "metadata": {},
   "outputs": [],
   "source": [
    "# данные для построения моделей\n",
    "DF = \n",
    "\n",
    "# данные для прогнозов\n",
    "DF_predict = "
   ]
  },
  {
   "cell_type": "markdown",
   "id": "25fbd25b",
   "metadata": {},
   "source": [
    "## Предварительный анализ данных   \n",
    "\n",
    "### Считаем описательные статистики   \n",
    "\n",
    "Рассчитаем описательные статистики для непрерывных переменных. Из таблицы ниже можно видеть, что переменная `charges`, которая является зависимой переменной модели, сильно отличается по масштабу от всех остальных.    Также заметим, что из всех объясняющих только переменная `children` принимает нулевые значения. Остальные показатели положительны.  "
   ]
  },
  {
   "cell_type": "code",
   "execution_count": null,
   "id": "26582dc3",
   "metadata": {},
   "outputs": [],
   "source": [
    "# описательные статистики для непрерывных переменных\n"
   ]
  },
  {
   "cell_type": "markdown",
   "id": "3c626566",
   "metadata": {},
   "source": [
    "### Строим графики  \n",
    "\n",
    "Посмотрим на графики взаимного разброса непрерывных переменных. "
   ]
  },
  {
   "cell_type": "code",
   "execution_count": null,
   "id": "df2c9748",
   "metadata": {},
   "outputs": [],
   "source": [
    "# матричный график разброса с линиями регрессии\n",
    "\n",
    "plt.show()"
   ]
  },
  {
   "cell_type": "markdown",
   "id": "a49d675b",
   "metadata": {},
   "source": [
    "Судя по этим графикам:  \n",
    "* распределение зависимой `charges` не является нормальным;  \n",
    "* из всех объясняющих нормально распределена только `bmi`;  \n",
    "* имеется три уровня стоимости страховки, что заметно на графиках разброса `charges` от `age`;  \n",
    "* облако наблюдений на графике `charges` от `bmi` делится на две неравные части;  \n",
    "* объясняющая `children` дискретна, что очевидно из её смысла: количество детей;  \n",
    "* разброс значений `charges` у застрахованных с количеством детей 5 (максимум из таблицы выше) намного меньше, чем у остальных застрахованных.  \n",
    "\n",
    "Наблюдаемые закономерности могут объясняться влиянием одной или нескольких из фиктивных объясняющих переменных. Построим график, раскрасив точки цветом в зависимости от пола застрахованного лица.  "
   ]
  },
  {
   "cell_type": "code",
   "execution_count": null,
   "id": "1579c040",
   "metadata": {},
   "outputs": [],
   "source": [
    "# матричный график разброса с цветом по полу\n",
    "\n",
    "\n",
    "plt.show()"
   ]
  },
  {
   "cell_type": "markdown",
   "id": "b35ddc7a",
   "metadata": {},
   "source": [
    "Теперь покажем цветом на графиках отношение застрахованых лиц к курению."
   ]
  },
  {
   "cell_type": "code",
   "execution_count": null,
   "id": "437da5dd",
   "metadata": {},
   "outputs": [],
   "source": [
    "# матричный график разброса с цветом по smokerYes\n",
    "\n",
    "\n",
    "plt.show()"
   ]
  },
  {
   "cell_type": "markdown",
   "id": "4be4f80b",
   "metadata": {},
   "source": [
    "Покажем с помощью цвета на графиках регионы."
   ]
  },
  {
   "cell_type": "code",
   "execution_count": null,
   "id": "98feccf6",
   "metadata": {},
   "outputs": [],
   "source": [
    "# матричный график разброса с цветом по region\n",
    "\n",
    "\n",
    "plt.show()"
   ]
  },
  {
   "cell_type": "markdown",
   "id": "67932230",
   "metadata": {},
   "source": [
    "Нарисуем график отдельно по `region_southeast`.  "
   ]
  },
  {
   "cell_type": "code",
   "execution_count": null,
   "id": "a521011e",
   "metadata": {},
   "outputs": [],
   "source": [
    "# матричный график разброса с цветом по региону southeast\n",
    "\n",
    "\n",
    "plt.show()"
   ]
  },
  {
   "cell_type": "markdown",
   "id": "9199da53",
   "metadata": {},
   "source": [
    "Посмотрим на корреляционные матрицы непрерывных переменных фрейма. "
   ]
  },
  {
   "cell_type": "code",
   "execution_count": null,
   "id": "fd276d8d",
   "metadata": {},
   "outputs": [],
   "source": [
    "# корреляционная матрица по всем наблюдениям\n",
    "corr_mat = \n",
    "corr_mat.style.background_gradient(cmap='coolwarm').set_precision(2)"
   ]
  },
  {
   "cell_type": "markdown",
   "id": "de885185",
   "metadata": {},
   "source": [
    "Посчитаем корреляционные матрицы для курящих и некурящих застрахованных лиц.  "
   ]
  },
  {
   "cell_type": "code",
   "execution_count": null,
   "id": "6d945191",
   "metadata": {},
   "outputs": [],
   "source": [
    "# корреляционная матрица по классу курильщиков\n",
    "corr_mat =\n",
    "\n",
    "corr_mat.style.background_gradient(cmap='coolwarm').set_precision(2)"
   ]
  },
  {
   "cell_type": "code",
   "execution_count": null,
   "id": "796b706e",
   "metadata": {},
   "outputs": [],
   "source": [
    "# корреляционная матрица по классу не курильщиков\n",
    "corr_mat = \n",
    "\n",
    "corr_mat.style.background_gradient(cmap='coolwarm').set_precision(2)"
   ]
  },
  {
   "cell_type": "markdown",
   "id": "7ec23130",
   "metadata": {},
   "source": [
    "\n",
    "\n",
    "### Логарифмируем зависимую переменную  \n",
    "\n",
    "Важным допущением линейной регрессии является нормальность зависимой переменной. Чтобы добиться нормального распределения, используют логарифмирование либо преобразование Бокса-Кокса. В этой лабораторной остановимся на логарифмировании.   "
   ]
  },
  {
   "cell_type": "code",
   "execution_count": null,
   "id": "740818a3",
   "metadata": {},
   "outputs": [],
   "source": [
    "# логарифмируем зависимую переменную\n",
    "DF['log_charges'] = \n",
    "\n",
    "# описательные статистики для непрерывных показателей\n",
    "DF[['charges', 'log_charges', 'age', 'bmi', 'children']].describe()"
   ]
  },
  {
   "cell_type": "markdown",
   "id": "ae236ee5",
   "metadata": {},
   "source": [
    "Проведём формальные тесты на нормальность.  "
   ]
  },
  {
   "cell_type": "code",
   "execution_count": null,
   "id": "c9d587ca",
   "metadata": {},
   "outputs": [],
   "source": [
    "# тестируем на нормальность\n",
    "for col in ['charges', 'log_charges']:\n",
    "    stat, p = shapiro(DF[col])\n",
    "    print(col, 'Statistics=%.2f, p=%.4f' % (stat, p))\n",
    "    # интерпретация\n",
    "    alpha = 0.05\n",
    "    if p > alpha:\n",
    "        print('Распределение нормально (H0 не отклоняется)\\n')\n",
    "    else:\n",
    "        print('Распределение не нормально (H0 отклоняется)\\n')"
   ]
  },
  {
   "cell_type": "markdown",
   "id": "8a3643a2",
   "metadata": {},
   "source": [
    "Логарифмирование меняет взаимосвязи между переменными.   "
   ]
  },
  {
   "cell_type": "code",
   "execution_count": null,
   "id": "ca9e705f",
   "metadata": {},
   "outputs": [],
   "source": [
    "# матричный график разброса с цветом по smokerYes\n",
    "sns.pairplot(DF[['log_charges', 'age', 'bmi', 'children', \n",
    "                 'smokerYes']], hue='smokerYes')\n",
    "plt.show()"
   ]
  },
  {
   "cell_type": "code",
   "execution_count": null,
   "id": "789776bc",
   "metadata": {},
   "outputs": [],
   "source": [
    "# корреляционная матрица по классу не курильщиков\n",
    "corr_mat = DF.loc[DF['smokerYes'] == 0][['log_charges', 'age', \n",
    "                                         'bmi', 'children']].corr()\n",
    "corr_mat.style.background_gradient(cmap='coolwarm').set_precision(2)"
   ]
  },
  {
   "cell_type": "code",
   "execution_count": null,
   "id": "62da4c18",
   "metadata": {},
   "outputs": [],
   "source": [
    "# корреляционная матрица по классу курильщиков\n",
    "corr_mat = DF.loc[DF['smokerYes'] == 1][['log_charges', 'age', \n",
    "                                         'bmi', 'children']].corr()\n",
    "corr_mat.style.background_gradient(cmap='coolwarm').set_precision(2)"
   ]
  },
  {
   "cell_type": "markdown",
   "id": "2291ad02",
   "metadata": {},
   "source": [
    "## Строим модели регрессии\n",
    "\n",
    "### Спецификация моделей  \n",
    "По итогам предварительного анализа данных можно предложить следующие спецификации линейных регрессионных моделей:  \n",
    "\n",
    "1. `fit_lm_1`: $\\hat{charges} = \\hat{\\beta_0} + \\hat{\\beta_1} \\cdot smokerYes + \\hat{\\beta_2} \\cdot age + \\hat{\\beta_3} \\cdot bmi$\n",
    "1. `fit_lm_2`: $\\hat{charges} = \\hat{\\beta_0} + \\hat{\\beta_1} \\cdot smokerYes + \\hat{\\beta_2} \\cdot age \\cdot smokerYes + \\hat{\\beta_3} \\cdot bmi$\n",
    "1. `fit_lm_3`: $\\hat{charges} = \\hat{\\beta_0} + \\hat{\\beta_1} \\cdot smokerYes + \\hat{\\beta_2} \\cdot bmi \\cdot smokerYes + \\hat{\\beta_3} \\cdot age$\n",
    "1. `fit_lm_4`: $\\hat{charges} = \\hat{\\beta_0} + \\hat{\\beta_1} \\cdot smokerYes + \\hat{\\beta_2} \\cdot bmi \\cdot smokerYes + \\hat{\\beta_3} \\cdot age \\cdot smokerYes$\n",
    "\n",
    "1. `fit_lm_1_log`: то же, что `fit_lm_1`, но для зависимой $\\hat{log\\_charges}$  \n",
    "1. `fit_lm_2_log`: то же, что `fit_lm_2`, но для зависимой $\\hat{log\\_charges}$\n",
    "1. `fit_lm_3_log`: то же, что `fit_lm_3`, но для зависимой $\\hat{log\\_charges}$\n",
    "1. `fit_lm_4_log`: то же, что `fit_lm_4`, но для зависимой $\\hat{log\\_charges}$\n",
    "\n",
    "Кроме того, добавим в сравнение модели зависимости `charges` и `log_sharges` от всех объясняющих переменных: `fit_lm_0` и `fit_lm_0_log` соответственно.  \n",
    "\n",
    "\n",
    "### Обучение и интерпретация  \n",
    "\n",
    "Создаём матрицы значений объясняющих переменных ( $X$ ) и вектора значений зависимой ( $y$ ) для всех моделей.  "
   ]
  },
  {
   "cell_type": "code",
   "execution_count": null,
   "id": "26c6e4f4",
   "metadata": {},
   "outputs": [],
   "source": [
    "# данные для моделей 1, 5\n",
    "df1 = DF[['charges', 'smokerYes', 'age', 'bmi']]\n",
    "\n",
    "# данные для моделей 2, 6\n",
    "df2 = DF[['charges', 'smokerYes', 'age', 'bmi']]\n",
    "df2.loc[:, 'age_smokerYes'] = \n",
    "df2 = \n",
    "\n",
    "# данные для моделей 3, 7\n",
    "df3 = DF[['charges', 'smokerYes', 'age', 'bmi']]\n",
    "df3.loc[:, 'bmi_smokerYes'] = \n",
    "df3 = \n",
    "\n",
    "# данные для моделей 4, 8\n",
    "df4 = DF[['charges', 'smokerYes', 'age', 'bmi']]\n",
    "df4.loc[:, 'age_smokerYes'] = \n",
    "df4.loc[:, 'bmi_smokerYes'] = \n",
    "df4 = \n",
    "\n",
    "# данные для моделей 9, 10\n",
    "df0 = "
   ]
  },
  {
   "cell_type": "markdown",
   "id": "32e29344",
   "metadata": {},
   "source": [
    "Построим модели от всех объясняющих переменных на всех наблюдениях `DF`, чтобы проинтерпретировать параметры. В модели для зависимой переменной `charges` интерпретация стандартная:  \n",
    "\n",
    "1. Константа – базовый уровень зависимой переменной, когда все объясняющие равны 0.  \n",
    "2. Коэффициент при объясняющей переменной $X$ показывает, на сколько своих единиц измерения изменится $Y$, если $X$ увеличится на одну свою единицу измерения.  "
   ]
  },
  {
   "cell_type": "code",
   "execution_count": null,
   "id": "530bd63c",
   "metadata": {},
   "outputs": [],
   "source": [
    "lm = skl_lm.LinearRegression()\n",
    "\n",
    "# модель со всеми объясняющими, y\n",
    "X = \n",
    "y = \n",
    "fit_lm_0 = \n",
    "print('модель fit_lm_0:\\n', \n",
    "      'константа ', np.around(fit_lm_0.intercept_, 3),\n",
    "      '\\n объясняющие ', list(X.columns.values),\n",
    "      '\\n коэффициенты ', np.around(fit_lm_0.coef_, 3))"
   ]
  },
  {
   "cell_type": "code",
   "execution_count": null,
   "id": "00a1f48f",
   "metadata": {},
   "outputs": [],
   "source": [
    "# оценим MSE на обучающей\n",
    "#  прогнозы\n",
    "y_pred = \n",
    "MSE = \n",
    "MSE"
   ]
  },
  {
   "cell_type": "markdown",
   "id": "5323fd43",
   "metadata": {},
   "source": [
    "С интрпретацией модели на логарифме $Y$ дела обстоят сложнее:  \n",
    "1. Константу сначала надо экспоненциировать, далее интерпретировать как для обычной модели регрессии.  \n",
    "1. Коэффициент при $X$ нужно экспоненциировать, затем вычесть из получившегося числа 1, затем умножить на 100. Результат показывает, на сколько процентов изменится (увеличится, если коэффициент положительный, и уменьшится, если отрицательный) зависимая переменная, если $X$ увеличится на одну свою единицу измерения.  "
   ]
  },
  {
   "cell_type": "code",
   "execution_count": null,
   "id": "a87419f1",
   "metadata": {},
   "outputs": [],
   "source": [
    "# модель со всеми объясняющими, y_log\n",
    "X = df0.drop(['charges'], axis=1)\n",
    "y = np.log(df0.charges).values.reshape(-1, 1)\n",
    "fit_lm_0_log = lm.fit(X, y)\n",
    "print('модель fit_lm_0_log:\\n', \n",
    "      'константа ', np.around(fit_lm_0_log.intercept_, 3),\n",
    "      '\\n объясняющие ', list(X.columns.values),\n",
    "      '\\n коэффициенты ', np.around(fit_lm_0_log.coef_, 3))"
   ]
  },
  {
   "cell_type": "code",
   "execution_count": null,
   "id": "5e800d8c",
   "metadata": {},
   "outputs": [],
   "source": [
    "# пересчёт коэффициентов для их интерпретации\n"
   ]
  },
  {
   "cell_type": "code",
   "execution_count": null,
   "id": "33656c61",
   "metadata": {},
   "outputs": [],
   "source": [
    "# оценим MSE на обучающей\n",
    "#  прогнозы\n",
    "y_pred = fit_lm_0_log.predict(X)\n",
    "MSE_log = sum((np.exp(y) - np.exp(y_pred).reshape(-1, 1))**2) / len(y)\n",
    "MSE_log"
   ]
  },
  {
   "cell_type": "code",
   "execution_count": null,
   "id": "88b9515f",
   "metadata": {},
   "outputs": [],
   "source": [
    "print('MSE_train модели для charges меньше MSE_train',\n",
    "     'модели для log(charges) в ', np.around(MSE_log / MSE, 1), 'раз')"
   ]
  },
  {
   "cell_type": "markdown",
   "id": "ff9c277b",
   "metadata": {},
   "source": [
    "### Оценка точности\n",
    "\n",
    "#### LOOCV  \n",
    "\n",
    "Сделаем перекрёстную проверку точности моделей по одному наблюдению.  "
   ]
  },
  {
   "cell_type": "code",
   "execution_count": null,
   "id": "856469ac",
   "metadata": {},
   "outputs": [],
   "source": [
    "# LeaveOneOut CV\n",
    "loo = \n",
    "\n",
    "# модели для y\n",
    "scores = list()\n",
    "# таймер\n",
    "tic = \n",
    "for df in [df0, df1, df2, df3, df4] :\n",
    "    \n",
    "    X = \n",
    "    y = \n",
    "    score = \n",
    "    \n",
    "    scores.append(score)\n",
    "\n",
    "# таймер\n",
    "toc = \n",
    "print(f\"Расчёты методом LOOCV заняли {} секунд\")"
   ]
  },
  {
   "cell_type": "code",
   "execution_count": null,
   "id": "14ec4244",
   "metadata": {},
   "outputs": [],
   "source": [
    "# модели для y_log\n",
    "scores_log = list()\n",
    "# таймер\n",
    "tic = time.perf_counter()\n",
    "for df in [df0, df1, df2, df3, df4] :\n",
    "    loo.get_n_splits(df)\n",
    "    X = df.drop(['charges'], axis=1)\n",
    "    y = np.log(df.charges)\n",
    "    score = cross_val_score(lm, X, y, cv=loo, n_jobs=1,\n",
    "                            scoring='neg_mean_squared_error').mean()\n",
    "    scores_log.append(score)\n",
    "\n",
    "# таймер\n",
    "toc = time.perf_counter()\n",
    "print(f\"Расчёты методом LOOCV заняли {toc - tic:0.2f} секунд\")"
   ]
  },
  {
   "cell_type": "markdown",
   "id": "043d8f7f",
   "metadata": {},
   "source": [
    "Сравним ошибки для моделей на исходных значениях `charges` с ошибками моделей на логарифме.  "
   ]
  },
  {
   "cell_type": "code",
   "execution_count": null,
   "id": "4760ac9c",
   "metadata": {},
   "outputs": [],
   "source": [
    "[np.around(-x, 2) for x in scores]"
   ]
  },
  {
   "cell_type": "code",
   "execution_count": null,
   "id": "f03231f8",
   "metadata": {},
   "outputs": [],
   "source": [
    "[np.around(-x, 3) for x in scores_log]"
   ]
  },
  {
   "cell_type": "markdown",
   "id": "5e8a2632",
   "metadata": {},
   "source": [
    "Определим самые точные модели отдельно на `charges` и на `log_charges`.  "
   ]
  },
  {
   "cell_type": "code",
   "execution_count": null,
   "id": "42809c46",
   "metadata": {},
   "outputs": [],
   "source": [
    "# самая точная на charges\n",
    "fits = ['fit_lm_0', 'fit_lm_1', 'fit_lm_2', 'fit_lm_3', 'fit_lm_4']\n",
    "print('Наименьшая ошибка на тестовой с LOOCV у модели',\n",
    "      fits[scores.index(max(scores))], \n",
    "      ':\\nMSE_loocv =', np.around(-max(scores), 0))"
   ]
  },
  {
   "cell_type": "code",
   "execution_count": null,
   "id": "b7ddcaad",
   "metadata": {},
   "outputs": [],
   "source": [
    "# самая точная на log(charges)\n",
    "fits = ['fit_lm_0_log', 'fit_lm_1_log', 'fit_lm_2_log', \n",
    "        'fit_lm_3_log', 'fit_lm_4_log']\n",
    "print('Наименьшая ошибка на тестовой с LOOCV у модели',\n",
    "      fits[scores_log.index(max(scores_log))], \n",
    "      ':\\nMSE_loocv =', np.around(-max(scores_log), 3))"
   ]
  },
  {
   "cell_type": "markdown",
   "id": "ca3670f2",
   "metadata": {},
   "source": [
    "#### Перекрёстная проверка по блокам    \n",
    "\n",
    "Теоретически этот метод менее затратен, чем LOOCV. Проверим на наших моделях.   "
   ]
  },
  {
   "cell_type": "code",
   "execution_count": null,
   "id": "bb2d9585",
   "metadata": {},
   "outputs": [],
   "source": [
    "# Перекрёстная проверка по 10 блокам\n",
    "folds = \n",
    "\n",
    "# ядра для разбиений перекрёстной проверкой\n",
    "r_state = \n",
    "\n",
    "# модели для y\n",
    "scores = list()\n",
    "# таймер\n",
    "tic = time.perf_counter()\n",
    "i = 0\n",
    "for df in [df0, df1, df2, df3, df4] :\n",
    "    X = df.drop(['charges'], axis=1)\n",
    "    y = df.charges\n",
    "    kf_10 = \n",
    "    \n",
    "    score = cross_val_score(lm, X, y, cv=kf_10,\n",
    "                            scoring='neg_mean_squared_error').mean()\n",
    "    scores.append(score)\n",
    "    i+=1\n",
    "\n",
    "# таймер\n",
    "toc = time.perf_counter()\n",
    "print(f\"Расчёты методом CV по 10 блокам заняли {toc - tic:0.2f} секунд\")"
   ]
  },
  {
   "cell_type": "code",
   "execution_count": null,
   "id": "121dd523",
   "metadata": {},
   "outputs": [],
   "source": [
    "# Перекрёстная проверка по 10 блокам\n",
    "folds = 10\n",
    "\n",
    "# ядра для разбиений перекрёстной проверкой\n",
    "r_state = np.arange(my_seed, my_seed + 9)\n",
    "\n",
    "# модели для y\n",
    "scores_log = list()\n",
    "# таймер\n",
    "tic = time.perf_counter()\n",
    "i = 0\n",
    "for df in [df0, df1, df2, df3, df4] :\n",
    "    X = df.drop(['charges'], axis=1)\n",
    "    y = np.log(df.charges)\n",
    "    kf_10 = KFold(n_splits=folds, random_state=r_state[i],\n",
    "                 shuffle=True)\n",
    "    score = cross_val_score(lm, X, y, cv=kf_10,\n",
    "                            scoring='neg_mean_squared_error').mean()\n",
    "    scores_log.append(score)\n",
    "    i+=1\n",
    "\n",
    "# таймер\n",
    "toc = time.perf_counter()\n",
    "print(f\"Расчёты методом CV по 10 блокам заняли {toc - tic:0.2f} секунд\")"
   ]
  },
  {
   "cell_type": "code",
   "execution_count": null,
   "id": "9f950766",
   "metadata": {},
   "outputs": [],
   "source": [
    "# самая точная на charges\n",
    "fits = ['fit_lm_0', 'fit_lm_1', 'fit_lm_2', 'fit_lm_3', 'fit_lm_4']\n",
    "print('Наименьшая ошибка на тестовой с k-fold10 у модели',\n",
    "      fits[scores.index(max(scores))], \n",
    "      ':\\nMSE_kf10 =', np.around(-max(scores), 0))"
   ]
  },
  {
   "cell_type": "code",
   "execution_count": null,
   "id": "19ce9627",
   "metadata": {},
   "outputs": [],
   "source": [
    "# самая точная на log(charges)\n",
    "fits = ['fit_lm_0_log', 'fit_lm_1_log', 'fit_lm_2_log', \n",
    "        'fit_lm_3_log', 'fit_lm_4_log']\n",
    "print('Наименьшая ошибка на тестовой с k-fold10 у модели',\n",
    "      fits[scores_log.index(max(scores_log))], \n",
    "      ':\\nMSE_kf10 =', np.around(-max(scores_log), 3))"
   ]
  },
  {
   "cell_type": "markdown",
   "id": "d42eba63",
   "metadata": {},
   "source": [
    "Можно убедиться, что оценка MSE методом перекрёстной проверки по 10 блокам даёт результаты, практически идентичные методу LOOCV. При этом скорость у первого метода при 1204 наблюдениях выше на два порядка."
   ]
  },
  {
   "cell_type": "markdown",
   "id": "185d5d22",
   "metadata": {},
   "source": [
    "Самой точной среди моделей для `charges` оказалась `fit_lm_3`, а среди моделей для `charges_log` – `fit_lm_0_log`. Оценим точность прогноза по этим моделям на отложенные наблюдения.   "
   ]
  },
  {
   "cell_type": "code",
   "execution_count": null,
   "id": "af93739e",
   "metadata": {},
   "outputs": [],
   "source": [
    "# прогноз по fit_lm_3\n",
    "#  модель на всех обучающих наблюдениях\n",
    "X = df3.drop(['charges'], axis=1)\n",
    "y = df3.charges.values.reshape(-1, 1)\n",
    "fit_lm_3  = \n",
    "\n",
    "#  значения y на отложенных наблюдениях\n",
    "y = DF_predict[['charges']].values.reshape(-1, 1)\n",
    "#  матрица объясняющих на отложенных наблюдениях\n",
    "X = DF_predict[['smokerYes', 'age', 'bmi']]\n",
    "X.loc[:, 'bmi_smokerYes'] = X.loc[:, 'bmi'] * X.loc[:, 'smokerYes']\n",
    "X = X.drop(['bmi'], axis=1)\n",
    "#  прогнозы\n",
    "y_pred = \n",
    "\n",
    "# ошибка\n",
    "MSE = \n",
    "print('MSE модели fit_lm_3 на отложенных наблюдениях = %.2f' % MSE)"
   ]
  },
  {
   "cell_type": "code",
   "execution_count": null,
   "id": "f714e587",
   "metadata": {},
   "outputs": [],
   "source": [
    "# прогноз по fit_lm_log_0\n",
    "# модель\n",
    "X = df0.drop(['charges'], axis=1)\n",
    "y = np.log(df0.charges).values.reshape(-1, 1)\n",
    "fit_lm_0_log = \n",
    "\n",
    "#  значения y на отложенных наблюдениях\n",
    "y = np.log(DF_predict[['charges']].values.reshape(-1, 1))\n",
    "#  матрица объясняющих на отложенных наблюдениях\n",
    "X = DF_predict.drop(['charges', 'region'], axis=1)\n",
    "\n",
    "#  прогнозы\n",
    "y_pred = \n",
    "\n",
    "# ошибка\n",
    "MSE_log = \n",
    "print('MSE модели fit_lm_0_log на отложенных наблюдениях = %.2f' % MSE_log)"
   ]
  },
  {
   "cell_type": "markdown",
   "id": "ea39ca0a",
   "metadata": {},
   "source": [
    "Очевидно, на выборке для прогноза точнее модель `fit_lm_3`:  \n",
    "$\\hat{charges} = \\hat{\\beta_0} + \\hat{\\beta_1} \\cdot smokerYes + \\hat{\\beta_2} \\cdot bmi \\cdot smokerYes + \\hat{\\beta_3} \\cdot age$"
   ]
  },
  {
   "cell_type": "code",
   "execution_count": null,
   "id": "5b260d66",
   "metadata": {},
   "outputs": [],
   "source": [
    "print('модель fit_lm_3:\\n', \n",
    "      'константа ', np.around(fit_lm_3.intercept_, 3),\n",
    "      '\\n объясняющие ', list(df3.drop(['charges'], axis=1).columns.values),\n",
    "      '\\n коэффициенты ', np.around(fit_lm_3.coef_, 3))"
   ]
  },
  {
   "cell_type": "markdown",
   "id": "af39298f",
   "metadata": {},
   "source": [
    "# Источники \n",
    "\n",
    "1. *James G., Witten D., Hastie T. and Tibshirani R.*  An Introduction to Statistical Learning with Applications in R. URL: [http://www-bcf.usc.edu/~gareth/ISL/ISLR%20First%20Printing.pdf](https://drive.google.com/file/d/15PdWDMf9hkfP8mrCzql_cNiX2eckLDRw/view?usp=sharing)     \n",
    "1. Рашка С. Python и машинное обучение: крайне необходимое пособие по новейшей предсказательной аналитике, обязательное для более глубокого понимания методологии машинного обучения / пер. с англ. А.В. Логунова. – М.: ДМК Пресс, 2017. – 418 с.: ил.\n",
    "1. Interpreting Log Transformations in a Linear Model / virginia.edu. URL: <https://data.library.virginia.edu/interpreting-log-transformations-in-a-linear-model/>  \n",
    "1. Python Timer Functions: Three Ways to Monitor Your Code / realpython.com. URL: <https://realpython.com/python-timer/>  "
   ]
  }
 ],
 "metadata": {
  "kernelspec": {
   "display_name": "Python 3",
   "language": "python",
   "name": "python3"
  },
  "language_info": {
   "codemirror_mode": {
    "name": "ipython",
    "version": 3
   },
   "file_extension": ".py",
   "mimetype": "text/x-python",
   "name": "python",
   "nbconvert_exporter": "python",
   "pygments_lexer": "ipython3",
   "version": "3.8.8"
  }
 },
 "nbformat": 4,
 "nbformat_minor": 5
}
