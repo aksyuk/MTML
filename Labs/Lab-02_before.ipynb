{
 "cells": [
  {
   "cell_type": "markdown",
   "id": "a1aef29b",
   "metadata": {},
   "source": [
    "`Дисциплина: Методы и технологии машинного обучения`   \n",
    "`Уровень подготовки: бакалавриат`   \n",
    "`Направление подготовки: 01.03.02 Прикладная математика и информатика`   \n",
    "`Семестр: осень 2021/2022`   \n",
    "\n",
    "\n",
    "\n",
    "\n",
    "# Лабораторная работа №2: Параметрические классификаторы: логистическая регрессия, LDA, QDA \n",
    "\n",
    "В практических примерах ниже показано:   \n",
    "\n",
    "* как импортировать данные из .csv\n",
    "* как рассчитать матрицу неточностей\n",
    "* как считать показатели качества модели по матрице неточностей (метод проверочной выборки)\n",
    "* как пользоваться моделями логистической регрессии, линейного и квадратичного дискриминантного анализа  \n",
    "\n",
    "*Модели*: логистическая регрессия, LDA, QDA.   \n",
    "*Данные*: `Default`.   \n",
    "\n",
    "\n",
    "# Указания к выполнению\n",
    "\n",
    "\n",
    "## Загружаем пакеты"
   ]
  },
  {
   "cell_type": "code",
   "execution_count": null,
   "id": "c8fa189c",
   "metadata": {},
   "outputs": [],
   "source": [
    "# загрузка пакетов: инструменты\n",
    "import numpy as np                                                      # работа с массивами\n",
    "import pandas as pd                                                     # фреймы данных\n",
    "import random                                                           # генератор случайных чисел\n",
    "import matplotlib as mpl                                                # графики\n",
    "import seaborn as sns                                                   # стили и шаблоны графиков на основе matplotlib\n",
    "from scipy.stats import shapiro                                         # тест Шапиро-Уилка на нормальность распределения\n",
    "from statsmodels.stats.diagnostic import lilliefors                     # тест Лиллиефорса на нормальность распределения\n",
    "\n",
    "# загрузка пакетов: модели\n",
    "from sklearn.linear_model import LogisticRegression                     # логистическая регрессия (ММП)\n",
    "from sklearn.discriminant_analysis import LinearDiscriminantAnalysis    # LDA\n",
    "from sklearn.discriminant_analysis import QuadraticDiscriminantAnalysis # QDA\n",
    "from sklearn.metrics import classification_report, confusion_matrix     # матрица неточностей\n",
    "from sklearn.metrics import plot_confusion_matrix                       # визуализация матрицы неточностей\n",
    "from sklearn.metrics import precision_score                             # PPV (TP / (TP + FP))\n",
    "from sklearn.metrics import precision_recall_fscore_support             # расчёт TPR, SPC, F1\n",
    "from sklearn.metrics import plot_roc_curve, roc_curve, auc              # ROC-кривая\n",
    "from statsmodels.api import add_constant                                # подготовка матрицы X для модели регрессии\n",
    "from statsmodels.formula.api import logit                               # модель логистической регрессии\n",
    "\n",
    "# встроить графики в блокнот \n",
    "%matplotlib inline \n",
    "# настройка стиля и отображения графиков\n",
    "#  примеры стилей и шаблонов графиков: http://tonysyu.github.io/raw_content/matplotlib-style-gallery/gallery.html\n",
    "mpl.style.use('seaborn-whitegrid')\n",
    "#  устанавливаем палитру для графиков\n",
    "# sns.color_palette(\"Set2\") # раскомментируйте, чтобы посмотреть палитру\n",
    "sns.set_palette(\"Set2\")"
   ]
  },
  {
   "cell_type": "code",
   "execution_count": null,
   "id": "43a4a48e",
   "metadata": {},
   "outputs": [],
   "source": [
    "# константы\n",
    "#  ядро для генератора случайных чисел\n",
    "my_seed = 9212\n",
    "plt = mpl.pyplot"
   ]
  },
  {
   "cell_type": "markdown",
   "id": "87618f1b",
   "metadata": {},
   "source": [
    "## Загружаем данные\n",
    "\n",
    "Набор данных `Default` в формате .csv доступен по адресу: <https://raw.githubusercontent.com/aksyuk/R-data/master/ISLR/Default.csv>.  "
   ]
  },
  {
   "cell_type": "code",
   "execution_count": null,
   "id": "a7e42f2c",
   "metadata": {},
   "outputs": [],
   "source": [
    "# читаем таблицу из файла .csv во фрейм\n",
    "DF = \n",
    "\n",
    "# делаем из категориальных (в нашем случае бинарных) переменных факторы, т.е. перенумеровываем уникальные значения\n",
    "\n",
    "\n",
    "\n",
    "# первые 5 строк фрейма\n",
    "DF.head(5)"
   ]
  },
  {
   "cell_type": "code",
   "execution_count": null,
   "id": "1e97a472",
   "metadata": {},
   "outputs": [],
   "source": [
    "# типы столбцов фрейма\n",
    "DF.dtypes"
   ]
  },
  {
   "cell_type": "code",
   "execution_count": null,
   "id": "30cc908a",
   "metadata": {},
   "outputs": [],
   "source": [
    "# сколько наблюдений во фрейме\n",
    "print(\"Число наблюдений во фрейме DF:\\n\", len(DF.index))"
   ]
  },
  {
   "cell_type": "markdown",
   "id": "03e10375",
   "metadata": {},
   "source": [
    "---"
   ]
  },
  {
   "cell_type": "markdown",
   "id": "6dc196d8",
   "metadata": {},
   "source": [
    "📚 **Подробнее о функции `factorize()`**"
   ]
  },
  {
   "cell_type": "code",
   "execution_count": null,
   "id": "de291170",
   "metadata": {},
   "outputs": [],
   "source": [
    "# способ 1: кодируем категории по встречаемости в данных\n",
    "#  кодируем массив, который начинается с Yes, по умолчанию\n",
    "labels1, uniques1 = pd.factorize(['Yes', 'No', 'Yes', 'Yes', 'No', 'No'])\n",
    "\n",
    "print(\"Пронумеровенные значения: \\n\", labels1)\n",
    "print(\"Уникальные коды: \\n\", uniques1)"
   ]
  },
  {
   "cell_type": "code",
   "execution_count": null,
   "id": "1cccb49a",
   "metadata": {},
   "outputs": [],
   "source": [
    "# способ 2: сортируем категории по алфавиту, потом кодируем\n",
    "#  кодируем массив, который начинается с Yes, с сортировкой кодов (уникальных значений) по алфавиту\n",
    "labels2, uniques2 = pd.factorize(['Yes', 'No', 'Yes', 'Yes', 'No', 'No'], sort=True)\n",
    "\n",
    "print(\"Пронумеровенные значения: \\n\", labels2)\n",
    "print(\"Уникальные коды: \\n\", uniques2)"
   ]
  },
  {
   "cell_type": "code",
   "execution_count": null,
   "id": "b6f08fcc",
   "metadata": {},
   "outputs": [],
   "source": [
    "# способ 3: полный контроль\n",
    "#  сначала создаём словарь\n",
    "x_dict = {'Yes' : 1,\n",
    "         'No' : 0}\n",
    "# теперь определяем x_to_factorize как столбец фрейма df_temp\n",
    "df_tmp = pd.DataFrame({'x_to_factorize': ['Yes', 'No', 'Yes', 'Yes', 'No', 'No']})\n",
    "# создаём столбец с кодами под названием x_factor с помощью map()\n",
    "df_tmp['x_factor'] = df_tmp.x_to_factorize.map(x_dict)\n",
    "\n",
    "df_tmp"
   ]
  },
  {
   "cell_type": "markdown",
   "id": "722453a7",
   "metadata": {},
   "source": [
    "---"
   ]
  },
  {
   "cell_type": "markdown",
   "id": "25fbd25b",
   "metadata": {},
   "source": [
    "## Предварительный анализ данных   "
   ]
  },
  {
   "cell_type": "markdown",
   "id": "d97604b9",
   "metadata": {},
   "source": [
    "В этой лабораторной для оценки точности моделей мы используем метод проверочной выборки. Создадим фреймы с обучающей и тестовой выборками (`DF_train` и `DF_test` соответственно), распределив наблюдения случайным образом в соотношении 80% и 20%.   "
   ]
  },
  {
   "cell_type": "code",
   "execution_count": null,
   "id": "e4ce2e99",
   "metadata": {},
   "outputs": [],
   "source": [
    "# обучающая выборка\n",
    "DF_train = \n",
    "# тестовая выборка (методом исключения)\n",
    "DF_test = \n",
    "\n",
    "# сколько наблюдений в обучающей выборке + подсчёт частот классов\n",
    "print(\"Число наблюдений во фрейме DF_train:\\n\", ,\n",
    "     \"\\n\\nЧастоты классов defaultYes:\\n\",\n",
    "     , sep='')"
   ]
  },
  {
   "cell_type": "code",
   "execution_count": null,
   "id": "be8da2fa",
   "metadata": {},
   "outputs": [],
   "source": [
    "# сколько наблюдений в тестовой выборке + подсчёт частот классов\n",
    "print(\"Число наблюдений во фрейме DF_test:\\n\", ,\n",
    "     \"\\n\\nЧастоты классов defaultYes:\\n\",\n",
    "     , sep='')"
   ]
  },
  {
   "cell_type": "markdown",
   "id": "e7190096",
   "metadata": {},
   "source": [
    "Посмотрим на разброс значений переменных и взаимосвязи между ними в обучающей выборке.   "
   ]
  },
  {
   "cell_type": "code",
   "execution_count": null,
   "id": "735f5533",
   "metadata": {},
   "outputs": [],
   "source": [
    "# создаём полотно и делим его на три части\n",
    "fig = plt.figure(figsize=(12,5))\n",
    "gs = mpl.gridspec.GridSpec(1, 4)\n",
    "ax1 = plt.subplot(gs[0,:-2])\n",
    "ax2 = plt.subplot(gs[0,-2])\n",
    "ax3 = plt.subplot(gs[0,-1])\n",
    "\n",
    "# график разброса\n",
    "#  класс Yes\n",
    "ax1.scatter(, \n",
    "            , \n",
    "            marker='+', linewidths=1, alpha=.8, s=60)\n",
    "#  класс No\n",
    "ax1.scatter(, \n",
    "            , marker='.', linewidths=1, alpha=.2, s=60)\n",
    "# подписи осей для графика разброса\n",
    "ax1.set_xlabel('Balance')\n",
    "ax1.set_ylabel('Income')\n",
    "\n",
    "# строим коробчатые\n",
    "sns.boxplot(x='default', y='balance', data=DF_train, orient='v', ax=ax2)\n",
    "sns.boxplot(x='default', y='income', data=DF_train, orient='v', ax=ax3)\n",
    "\n",
    "# корректируем расположение графиков на полотне\n",
    "gs.tight_layout(plt.gcf())"
   ]
  },
  {
   "cell_type": "markdown",
   "id": "f0bf5cff",
   "metadata": {},
   "source": [
    "## Логистическая регрессия  \n",
    "\n",
    "Классифицируем наблюдения по классам из `defaultYes` с помощью логистической регрессии. В качестве объясняющей переменной возьмём `balance`.  \n",
    "\n",
    "### Строим модель с помощью пакета `scikit-learn`   \n",
    "\n",
    "Воспользуемся функцией `LogisticRegression()`.   "
   ]
  },
  {
   "cell_type": "code",
   "execution_count": null,
   "id": "19408ba5",
   "metadata": {},
   "outputs": [],
   "source": [
    "# данные для логистической выборки в формате, понятном функции LogisticRegression()\n",
    "X_train = \n",
    "y_train = \n",
    "\n",
    "# строим модель на обучающей\n",
    "fit_LR_1 = \n",
    "\n",
    "# коэффициенты модели\n",
    "print('Коэффициенты при объясняющих переменных:', np.around(fit_LR_1.coef_, 4),\n",
    "      '\\nКонстанта:', np.around(fit_LR_1.intercept_, 4))"
   ]
  },
  {
   "cell_type": "markdown",
   "id": "02336d61",
   "metadata": {},
   "source": [
    "### Строим модель с помощью пакета `statmodels`   \n",
    "\n",
    "Воспользуемся функцией `logit()`.   "
   ]
  },
  {
   "cell_type": "code",
   "execution_count": null,
   "id": "ac13a0f1",
   "metadata": {},
   "outputs": [],
   "source": [
    "# строим модель на обучающей\n",
    "fit_logit_1 = \n",
    "# отчёт по коэффициентам\n"
   ]
  },
  {
   "cell_type": "markdown",
   "id": "174632fb",
   "metadata": {},
   "source": [
    "### График фактических и модельных вероятностей      "
   ]
  },
  {
   "cell_type": "code",
   "execution_count": null,
   "id": "6c8a8582",
   "metadata": {},
   "outputs": [],
   "source": [
    "# данные тестовой выборки \n",
    "X_test = \n",
    "y_test = \n",
    "\n",
    "# равноотстоящие координаты balance по возрастанию (для графика модельных значений)\n",
    "x_line_train = np.linspace(DF_train.balance.min(), DF_train.balance.max(), 2000).reshape(-1, 1)\n",
    "x_line_test = np.linspace(DF_test.balance.min(), DF_test.balance.max(), 2000).reshape(-1, 1)\n",
    "\n",
    "# прогноз вероятностей для обучающей\n",
    "y_line_train = "
   ]
  },
  {
   "cell_type": "code",
   "execution_count": null,
   "id": "6d80c4de",
   "metadata": {},
   "outputs": [],
   "source": [
    "# смотрим, как выглядят прогнозы\n",
    "pd.DataFrame(y_line_train)"
   ]
  },
  {
   "cell_type": "code",
   "execution_count": null,
   "id": "332ef4f7",
   "metadata": {},
   "outputs": [],
   "source": [
    "# прогноз вероятностей для тестовой\n",
    "y_line_test = \n",
    "\n",
    "# график логистической регрессии\n",
    "fig, (ax1, ax2) = plt.subplots(1,2, figsize=(12,5))\n",
    "\n",
    "# палитра\n",
    "clrs = sns.color_palette('Set2')\n",
    "\n",
    "# график для обучающей выборки\n",
    "#  фактические наблюдения\n",
    "ax1.scatter(, , \n",
    "            marker='|', color=clrs[0], alpha=0.6, label='факт')\n",
    "#  модельная кривая\n",
    "ax1.plot(, , \n",
    "         linestyle='solid', color=clrs[1], label='модель')\n",
    "#  заголовок\n",
    "ax1.set_title('Обучающая выборка')\n",
    "\n",
    "# график для тестовой выборки\n",
    "#  фактические наблюдения\n",
    "ax2.scatter(X_test, y_test, \n",
    "            marker='|', color=clrs[0], lw=2, alpha=0.6, label='факт')\n",
    "#  модельная кривая\n",
    "ax2.plot(x_line_test, y_line_test[:, 1],\n",
    "         linestyle='solid', lw=2, color=clrs[1], label='модель')\n",
    "#  заголовок\n",
    "ax2.set_title('Тестовая выборка')\n",
    "\n",
    "# дополнительные настройки графиков\n",
    "for ax in fig.axes:\n",
    "    #  линиии вероятностей P=0 и P=1\n",
    "    ax.hlines(1, xmin=ax.xaxis.get_data_interval()[0],\n",
    "              xmax=ax.xaxis.get_data_interval()[1], linestyles='dashed', lw=1, color='grey')\n",
    "    ax.hlines(0, xmin=ax.xaxis.get_data_interval()[0],\n",
    "              xmax=ax.xaxis.get_data_interval()[1], linestyles='dashed', lw=1, color='grey')\n",
    "    #  подписи осей\n",
    "    ax.set_ylabel('P(default=Yes)')\n",
    "    ax.set_xlabel('Balance')\n",
    "    #  легенда\n",
    "    ax.legend(loc='center left')"
   ]
  },
  {
   "cell_type": "markdown",
   "id": "3b5099b4",
   "metadata": {},
   "source": [
    "### Выбор лучшей модели множественной логистической регрессии   "
   ]
  },
  {
   "cell_type": "code",
   "execution_count": null,
   "id": "0dbe7529",
   "metadata": {},
   "outputs": [],
   "source": [
    "# множественная логистическая регрессия\n",
    "fit_logit_2 = \n",
    "fit_logit_2.summary().tables[1]"
   ]
  },
  {
   "cell_type": "code",
   "execution_count": null,
   "id": "9b63367e",
   "metadata": {},
   "outputs": [],
   "source": [
    "# исключаем незначимую объясняющую income\n",
    "fit_logit_3 = logit(str(''), DF_train).fit(solver='newton-cg')\n",
    "fit_logit_3.summary().tables[1]"
   ]
  },
  {
   "cell_type": "code",
   "execution_count": null,
   "id": "0556100a",
   "metadata": {},
   "outputs": [],
   "source": [
    "# пробуем модель со взаимодействием student и balance\n",
    "fit_logit_4 = logit(str(''), DF_train).fit(solver='newton-cg')\n",
    "fit_logit_4.summary().tables[1]"
   ]
  },
  {
   "cell_type": "code",
   "execution_count": null,
   "id": "f7fbbf5e",
   "metadata": {},
   "outputs": [],
   "source": [
    "# сводим в таблицу характеристики качества моделей\n",
    "#  пустые массивы для будущих столбцов\n",
    "mdls = [\"\" for x in range(4)]\n",
    "aics = np.zeros(4)\n",
    "tprs = np.zeros(4)\n",
    "spcs = np.zeros(4)\n",
    "\n",
    "#  цикл по построенным моделям\n",
    "fits_loop = [fit_logit_1, fit_logit_2, fit_logit_3, fit_logit_4]\n",
    "for fit in fits_loop :\n",
    "    #  номер текущей модели в списке\n",
    "    i = \n",
    "    #  объясняющие переменные модели\n",
    "    mdls[i] = \n",
    "    #  значения AIC\n",
    "    aics[i] = \n",
    "    #  делаем прогноз на тестовую\n",
    "    y_hat_test = \n",
    "    y_hat_test = \n",
    "    #  значения TPR на тестовой\n",
    "    tprs[i] = \n",
    "    #  значения SPC на тестовой\n",
    "    spcs[i] = \n",
    "    \n",
    "df_summary = pd.DataFrame({'Объясняющие переменные': mdls, 'AIC': aics,\n",
    "                          'TPR_test': tprs, 'SPC_test': spcs})\n",
    "df_summary"
   ]
  },
  {
   "cell_type": "markdown",
   "id": "6d7b39e5",
   "metadata": {},
   "source": [
    "Проанализируем таблицу. Наилучшей моделью по информационному критерию Акаике является модель зависимости `defaultYes` от `studentYes` и `balance` (модель №3, наименьшее значение $AIC$ ). Значение чувствительности на тестовой выборке ($TPR_{test}$) у неё также наилучшее. По специфичности ($SPC_{test}$) модель №4 (с переменной константой при `balance`) немного лучше остальных, однако отличие несущественное.  \n",
    "В итоге стоит остановиться на третьей модели.\n",
    "Перестроим её с помощью `LogisticRegression()`.   \n",
    "\n",
    "### Перестраиваем лучшую модель с `LogisticRegression()`  "
   ]
  },
  {
   "cell_type": "code",
   "execution_count": null,
   "id": "e8c53bf3",
   "metadata": {},
   "outputs": [],
   "source": [
    "# строим модель на обучающей\n",
    "X_train_LR_2 = DF_train[['studentYes', 'balance']]\n",
    "fit_LR_2 = LogisticRegression(solver='newton-cg').fit(X=X_train_LR_2, y=y_train)"
   ]
  },
  {
   "cell_type": "code",
   "execution_count": null,
   "id": "b31dac2b",
   "metadata": {},
   "outputs": [],
   "source": [
    "# коэффициенты\n",
    "fit_LR_2.coef_"
   ]
  },
  {
   "cell_type": "code",
   "execution_count": null,
   "id": "966345e9",
   "metadata": {},
   "outputs": [],
   "source": [
    "# константа\n",
    "fit_LR_2.intercept_"
   ]
  },
  {
   "cell_type": "code",
   "execution_count": null,
   "id": "409abe0a",
   "metadata": {},
   "outputs": [],
   "source": [
    "# прогноз\n",
    "X_test_LR_2 = DF_test[['studentYes', 'balance']]\n",
    "# визуализация матрицы неточностей\n",
    "\n"
   ]
  },
  {
   "cell_type": "code",
   "execution_count": null,
   "id": "eae865d3",
   "metadata": {},
   "outputs": [],
   "source": [
    "# отчёт по точности на тестовой\n",
    "y_prob_test_LR_2 = \n",
    "y_hat_test = \n",
    "print('Модель логистической регрессии от studentYes, balance с порогом 0.5 : \\n',\n",
    "      classification_report(y_test, y_hat_test))"
   ]
  },
  {
   "cell_type": "markdown",
   "id": "fdfb2f3a",
   "metadata": {},
   "source": [
    "В последнем отчёте метрики качества рассчитаны для каждого класса. Для бинарной классификации:  \n",
    "* в столбце `recall` для класса 1 стоит чувствительность, а для класса 0 – специфичность.  \n",
    "* в столбце `precision` для класса 1 стоит ценность положительного прогноза, а для класса 0 – отрицательного.  "
   ]
  },
  {
   "cell_type": "markdown",
   "id": "ac5c2c5d",
   "metadata": {},
   "source": [
    "---"
   ]
  },
  {
   "cell_type": "markdown",
   "id": "fb5b0c88",
   "metadata": {},
   "source": [
    "📚 **Подробнее о прогнозе по модели логистической регрессии**   \n",
    "\n",
    "$$P(X) = {e^{X \\cdot \\hat{\\beta}} \\over (1 + e^{X \\cdot \\hat{\\beta}})}$$  \n",
    "Здесь $X$ – матрица объясняющих переменных для модели с константой ($n$ строк и $p + 1$ столбцов), $\\hat{\\beta}$ – вектор-столбец оценок параметров модели ($p + 1$ строк, 1 столбец); $n$ – число наблюдений, $p$ – количество объясняющих переменных модели.  "
   ]
  },
  {
   "cell_type": "code",
   "execution_count": null,
   "id": "4b2a9ad9",
   "metadata": {},
   "outputs": [],
   "source": [
    "# прогноз с помощью logit.predict()\n",
    "y_hat_test_1 = "
   ]
  },
  {
   "cell_type": "code",
   "execution_count": null,
   "id": "0fa52605",
   "metadata": {},
   "outputs": [],
   "source": [
    "# снова создаём матрицу объясняющих для модели зависимости defaultYes от balance\n",
    "X_test = \n",
    "# прогноз вручную: y = X * beta, где X – матрица 2000 на 2, а beta – вектор-столбец 2 на 1\n",
    "y_hat_test = \n",
    "# пересчитываем в вероятности\n",
    "y_hat_test = "
   ]
  },
  {
   "cell_type": "code",
   "execution_count": null,
   "id": "5c978345",
   "metadata": {},
   "outputs": [],
   "source": [
    "# совместим результаты прогноза разными методами в одном фрейме\n",
    "pd.DataFrame({'Прогноз P(X) функцией predict': y_hat_test_1,\n",
    "              'Прогноз P(X) вручную': y_hat_test.reshape(-1)})"
   ]
  },
  {
   "cell_type": "code",
   "execution_count": null,
   "id": "8bee5864",
   "metadata": {},
   "outputs": [],
   "source": [
    "# перекодируем в 0 и 1, граница отсечения 0.5\n",
    "y_hat_test = (y_hat_test > 0.5).astype(int)"
   ]
  },
  {
   "cell_type": "code",
   "execution_count": null,
   "id": "5aac4fbd",
   "metadata": {},
   "outputs": [],
   "source": [
    "# считаем матрицу неточностей\n",
    "cm = \n",
    "# рисуем матрицу в виде тепловой карты\n",
    "sns.heatmap(cm, annot=True, \n",
    "            fmt='g', linewidths=0.5, cmap='BrBG', alpha=0.7)\n",
    "plt.ylabel('Факт')\n",
    "plt.xlabel('Прогноз')\n",
    "plt.show()"
   ]
  },
  {
   "cell_type": "markdown",
   "id": "65af275e",
   "metadata": {},
   "source": [
    "---"
   ]
  },
  {
   "cell_type": "markdown",
   "id": "acac18f8",
   "metadata": {},
   "source": [
    "## ROC-кривая  и подбор порога отсечения "
   ]
  },
  {
   "cell_type": "code",
   "execution_count": null,
   "id": "eeffbf67",
   "metadata": {},
   "outputs": [],
   "source": [
    "# рисуем ROC-кривую\n"
   ]
  },
  {
   "cell_type": "markdown",
   "id": "c3a202e6",
   "metadata": {},
   "source": [
    "Чтобы выбрать оптимальный порог отсечения формально, получим координаты ROC-кривой с помощью функции `roc_curve()`, а затем свернём их с помощью J-статистики Юдена, которая рассчитывается по формуле:  \n",
    "$$J = TPR + SPC - 1 = TPR - FPR$$\n",
    "Когда чувствительность и специфичность модели максимальны, J-статистика также принимает максимальное значение."
   ]
  },
  {
   "cell_type": "code",
   "execution_count": null,
   "id": "fa7e3d9b",
   "metadata": {},
   "outputs": [],
   "source": [
    "# рассчитываем координаты ROC-кривой\n",
    "fpr, tpr, thresholds = \n",
    "\n",
    "# считаем J-статистику Юдена = TPR - FPR\n",
    "j_scores = \n",
    "\n",
    "df_roc = pd.DataFrame({'TPR': tpr, 'SPC': 1-fpr, 'Порог отсечения': thresholds})\n",
    "# находим оптимум по максимуму J-статистики\n"
   ]
  },
  {
   "cell_type": "code",
   "execution_count": null,
   "id": "931930ad",
   "metadata": {},
   "outputs": [],
   "source": [
    "# сохраняем оптимальный порог\n",
    "thr = \n",
    "# прогноз с новой границей отсечения\n",
    "y_hat_test = (y_prob_test_LR_2 > thr).astype(int)\n",
    "# отчёт по точности на тестовой\n",
    "print('Модель логистической регрессии от studentYes, balance с порогом', np.around(thr, 4), ': \\n', \n",
    "      classification_report(y_test, y_hat_test))"
   ]
  },
  {
   "cell_type": "code",
   "execution_count": null,
   "id": "30a20d9a",
   "metadata": {},
   "outputs": [],
   "source": [
    "# второй способ – порог = доле наименьшего класса на обучающей выборке\n",
    "thr = \n",
    "# прогноз с новой границей отсечения\n",
    "y_hat_test = (y_prob_test_LR_2 > thr).astype(int)\n",
    "# отчёт по точности на тестовой\n",
    "print('Модель логистической регрессии от studentYes, balance с порогом', np.around(thr, 4), ': \\n', \n",
    "      classification_report(y_test, y_hat_test))"
   ]
  },
  {
   "cell_type": "markdown",
   "id": "9df05ed0",
   "metadata": {},
   "source": [
    "## Линейный дискриминантный анализ (LDA)   \n",
    "\n",
    "Для начала посмотрим на гистограммы распределения непрерывных объясняющих переменных и проверим их на нормальность.   "
   ]
  },
  {
   "cell_type": "code",
   "execution_count": null,
   "id": "eeb221ca",
   "metadata": {},
   "outputs": [],
   "source": [
    "# посмотрим, как работает функция shapiro()\n"
   ]
  },
  {
   "cell_type": "code",
   "execution_count": null,
   "id": "e9f91d64",
   "metadata": {},
   "outputs": [],
   "source": [
    "# статистический тест Шапиро-Уилка на нормальность для объясняющих переменных внутри классов\n",
    "for col in ['balance', 'income']:\n",
    "    stat, p = shapiro(DF_train[DF_train.defaultYes == 1][col])\n",
    "    print(col, '| defaultYes : 1\\n', \n",
    "          'Statistics=%.2f, p=%.4f' % (stat, p))\n",
    "    # интерпретация\n",
    "    alpha = 0.05\n",
    "    if p > alpha:\n",
    "        print('Распределение нормально (H0 не отклоняется)\\n')\n",
    "    else:\n",
    "        print('Распределение не нормально (H0 отклоняется)\\n')\n",
    "    \n",
    "    stat, p = shapiro(DF_train[DF_train.defaultYes == 0][col])\n",
    "    print(col, '| defaultYes : 0\\n', \n",
    "          'Statistics=%.2f, p=%.4f' % (stat, p))\n",
    "    # интерпретация\n",
    "    alpha = 0.05\n",
    "    if p > alpha:\n",
    "        print('Распределение нормально (H0 не отклоняется)\\n')\n",
    "    else:\n",
    "        print('Распределение не нормально (H0 отклоняется)\\n')"
   ]
  },
  {
   "cell_type": "code",
   "execution_count": null,
   "id": "2e3e3fa6",
   "metadata": {},
   "outputs": [],
   "source": [
    "# тест Лиллиефорса на нормальность\n",
    "for col in ['balance', 'income']:\n",
    "    stat, p = lilliefors(DF_train[DF_train.defaultYes == 1][col])\n",
    "    print(col, '| defaultYes : 1\\n', \n",
    "          'Statistics=%.2f, p=%.4f' % (stat, p))\n",
    "    # интерпретация\n",
    "    alpha = 0.05\n",
    "    if p > alpha:\n",
    "        print('Распределение нормально (H0 не отклоняется)\\n')\n",
    "    else:\n",
    "        print('Распределение не нормально (H0 отклоняется)\\n')\n",
    "        \n",
    "    stat, p = lilliefors(DF_train[DF_train.defaultYes == 0][col])\n",
    "    print(col, '| defaultYes : 0\\n', \n",
    "          'Statistics=%.2f, p=%.4f' % (stat, p))\n",
    "    # интерпретация\n",
    "    alpha = 0.05\n",
    "    if p > alpha:\n",
    "        print('Распределение нормально (H0 не отклоняется)\\n')\n",
    "    else:\n",
    "        print('Распределение не нормально (H0 отклоняется)\\n')"
   ]
  },
  {
   "cell_type": "markdown",
   "id": "1781a310",
   "metadata": {},
   "source": [
    "**Далее построим модели LDA и QDA исключительно в учебных целях.**"
   ]
  },
  {
   "cell_type": "code",
   "execution_count": null,
   "id": "0df62667",
   "metadata": {},
   "outputs": [],
   "source": [
    "# будем строить модели на непрерывных объясняющих переменных\n",
    "y_train = \n",
    "X_train = \n",
    "X_train.head(5)"
   ]
  },
  {
   "cell_type": "code",
   "execution_count": null,
   "id": "538f403e",
   "metadata": {},
   "outputs": [],
   "source": [
    "# обучаем модель\n",
    "fit_lda = \n",
    "\n",
    "# прогноз на тестовую\n",
    "X_test = \n",
    "y_hat_test = "
   ]
  },
  {
   "cell_type": "code",
   "execution_count": null,
   "id": "7fcfa80e",
   "metadata": {},
   "outputs": [],
   "source": [
    "# априорные вероятности классов\n"
   ]
  },
  {
   "cell_type": "code",
   "execution_count": null,
   "id": "2db13092",
   "metadata": {},
   "outputs": [],
   "source": [
    "# средние по классам\n"
   ]
  },
  {
   "cell_type": "code",
   "execution_count": null,
   "id": "6e05c092",
   "metadata": {},
   "outputs": [],
   "source": [
    "# отчёт по точности на тестовой\n",
    "print('Модель LDA от balance, income: \\n', \n",
    "     )"
   ]
  },
  {
   "cell_type": "markdown",
   "id": "82779920",
   "metadata": {},
   "source": [
    "## Квадратичный дискриминантный анализ (QDA)"
   ]
  },
  {
   "cell_type": "code",
   "execution_count": null,
   "id": "dfda939e",
   "metadata": {},
   "outputs": [],
   "source": [
    "# обучаем модель\n",
    "fit_qda = \n",
    "\n",
    "# прогноз на тестовую\n",
    "y_hat_test = \n",
    "\n",
    "# отчёт по точности на тестовой\n",
    "print('Модель QDA от balance, income: \\n', \n",
    "      )"
   ]
  },
  {
   "cell_type": "markdown",
   "id": "af39298f",
   "metadata": {},
   "source": [
    "# Источники \n",
    "\n",
    "1. *James G., Witten D., Hastie T. and Tibshirani R.*  An Introduction to Statistical Learning with Applications in R. URL: [http://www-bcf.usc.edu/~gareth/ISL/ISLR%20First%20Printing.pdf](https://drive.google.com/file/d/15PdWDMf9hkfP8mrCzql_cNiX2eckLDRw/view?usp=sharing)     \n",
    "1. *Jordi Warmenhoven* ISLR-python / github.com. URL: <https://github.com/JWarmenhoven/ISLR-python>  \n",
    "1. Logistic Regression in Python / realpython.com. URL: <https://realpython.com/logistic-regression-python/>   \n",
    "1. The k-Nearest Neighbors (kNN) Algorithm in Python / realpython.com. URL: <https://realpython.com/knn-python/> \n",
    "1. Руководство по библиотеке Seaborn / из курса \"Python для анализа данных\" от Физтеха. URL: <https://mipt-stats.gitlab.io/courses/python/09_seaborn.html>  \n",
    "1. *Tony S. Yu* Matplotlib Style Gallery / tonysyu.github.io. URL: <http://tonysyu.github.io/raw_content/matplotlib-style-gallery/gallery.html>  \n",
    "1. Intro to data structures / pandas.pydata.org. URL: <https://pandas.pydata.org/pandas-docs/stable/user_guide/dsintro.html>  \n",
    "1. *Baijayanta Roy* All about Categorical Variable Encoding / towardsdatascience.com. URL: <https://towardsdatascience.com/all-about-categorical-variable-encoding-305f3361fd02>"
   ]
  }
 ],
 "metadata": {
  "kernelspec": {
   "display_name": "Python 3",
   "language": "python",
   "name": "python3"
  },
  "language_info": {
   "codemirror_mode": {
    "name": "ipython",
    "version": 3
   },
   "file_extension": ".py",
   "mimetype": "text/x-python",
   "name": "python",
   "nbconvert_exporter": "python",
   "pygments_lexer": "ipython3",
   "version": "3.8.8"
  }
 },
 "nbformat": 4,
 "nbformat_minor": 5
}
