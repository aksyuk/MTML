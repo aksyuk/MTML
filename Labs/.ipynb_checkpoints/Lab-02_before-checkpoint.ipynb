{
 "cells": [
  {
   "cell_type": "markdown",
   "id": "a1aef29b",
   "metadata": {},
   "source": [
    "`Дисциплина: Методы и технологии машинного обучения`   \n",
    "`Уровень подготовки: бакалавриат`   \n",
    "`Направление подготовки: 01.03.02 Прикладная математика и информатика`   \n",
    "`Семестр: осень 2021/2022`   \n",
    "\n",
    "\n",
    "\n",
    "\n",
    "# Лабораторная работа №2: Параметрические классификаторы: логистическая регрессия, LDA, QDA \n",
    "\n",
    "В практических примерах ниже показано:   \n",
    "\n",
    "* как импортировать данные из .csv\n",
    "* как рассчитать матрицу неточностей\n",
    "* как считать показатели качества модели по матрице неточностей (метод проверочной выборки)\n",
    "* как пользоваться моделями логистической регрессии, линейного и квадратичного дискриминантного анализа  \n",
    "\n",
    "*Модели*: логистическая регрессия, LDA, QDA.   \n",
    "*Данные*: `Default`.   \n",
    "\n",
    "\n",
    "# Указания к выполнению\n",
    "\n",
    "\n",
    "## Загружаем пакеты"
   ]
  },
  {
   "cell_type": "code",
   "execution_count": null,
   "id": "c8fa189c",
   "metadata": {},
   "outputs": [],
   "source": [
    "# загрузка пакетов: инструменты\n",
    "import numpy as np                                                      # работа с массивами\n",
    "import pandas as pd                                                     # фреймы данных\n",
    "import random                                                           # генератор случайных чисел\n",
    "import matplotlib as mpl                                                # графики\n",
    "import seaborn as sns                                                   # стили и шаблоны графиков на основе matplotlib\n",
    "from scipy.stats import shapiro                                         # тест Шапиро-Уилка на нормальность распределения\n",
    "from statsmodels.stats.diagnostic import lilliefors                     # тест Лиллиефорса на нормальность распределения\n",
    "\n",
    "# загрузка пакетов: модели\n",
    "from sklearn.linear_model import LogisticRegression                     # логистическая регрессия (ММП)\n",
    "from sklearn.discriminant_analysis import LinearDiscriminantAnalysis    # LDA\n",
    "from sklearn.discriminant_analysis import QuadraticDiscriminantAnalysis # QDA\n",
    "from sklearn.metrics import classification_report, confusion_matrix     # матрица неточностей\n",
    "from sklearn.metrics import plot_confusion_matrix                       # визуализация матрицы неточностей\n",
    "from sklearn.metrics import precision_score                             # PPV (TP / (TP + FP))\n",
    "from sklearn.metrics import precision_recall_fscore_support             # расчёт TPR, SPC, F1\n",
    "from sklearn.metrics import RocCurveDisplay, roc_curve, auc             # ROC-кривая\n",
    "from statsmodels.api import add_constant                                # подготовка матрицы X для модели регрессии\n",
    "from statsmodels.formula.api import logit                               # модель логистической регрессии\n",
    "\n",
    "# встроить графики в блокнот \n",
    "%matplotlib inline \n",
    "# настройка стиля и отображения графиков\n",
    "#  примеры стилей и шаблонов графиков: http://tonysyu.github.io/raw_content/matplotlib-style-gallery/gallery.html\n",
    "mpl.style.use('seaborn-whitegrid')\n",
    "#  устанавливаем палитру для графиков\n",
    "# sns.color_palette(\"Set2\") # раскомментируйте, чтобы посмотреть палитру\n",
    "sns.set_palette(\"Set2\")"
   ]
  },
  {
   "cell_type": "code",
   "execution_count": null,
   "id": "43a4a48e",
   "metadata": {},
   "outputs": [],
   "source": [
    "# константы\n",
    "#  ядро для генератора случайных чисел\n",
    "my_seed = 9212\n",
    "plt = mpl.pyplot"
   ]
  },
  {
   "cell_type": "markdown",
   "id": "87618f1b",
   "metadata": {},
   "source": [
    "## Загружаем данные\n",
    "\n",
    "Набор данных `Default` в формате .csv доступен по адресу: <https://raw.githubusercontent.com/aksyuk/R-data/master/ISLR/Default.csv>.  "
   ]
  },
  {
   "cell_type": "code",
   "execution_count": null,
   "id": "a7e42f2c",
   "metadata": {},
   "outputs": [],
   "source": [
    "# читаем таблицу из файла .csv во фрейм\n",
    "DF = \n",
    "\n",
    "# делаем из категориальных (в нашем случае бинарных) переменных факторы, т.е. перенумеровываем уникальные значения\n",
    "\n",
    "\n",
    "\n",
    "# первые 5 строк фрейма\n",
    "DF.head(5)"
   ]
  },
  {
   "cell_type": "code",
   "execution_count": null,
   "id": "1e97a472",
   "metadata": {},
   "outputs": [],
   "source": [
    "# типы столбцов фрейма\n",
    "DF.dtypes"
   ]
  },
  {
   "cell_type": "code",
   "execution_count": null,
   "id": "30cc908a",
   "metadata": {},
   "outputs": [],
   "source": [
    "# сколько наблюдений во фрейме\n",
    "print(\"Число наблюдений во фрейме DF:\\n\", len(DF.index))"
   ]
  },
  {
   "cell_type": "markdown",
   "id": "03e10375",
   "metadata": {},
   "source": [
    "---"
   ]
  },
  {
   "cell_type": "markdown",
   "id": "6dc196d8",
   "metadata": {},
   "source": [
    "📚 **Подробнее о функции `factorize()`**"
   ]
  },
  {
   "cell_type": "code",
   "execution_count": null,
   "id": "de291170",
   "metadata": {},
   "outputs": [],
   "source": [
    "# способ 1: уровни по умолчанию\n",
    "#  кодируем массив, который начинается с Yes, по умолчанию\n",
    "labels1, uniques1 = pd.factorize(['Yes', 'No', 'Yes', 'Yes', 'No', 'No'])\n",
    "\n",
    "print(\"Пронумеровенные значения: \\n\", labels1)\n",
    "print(\"Уникальные коды: \\n\", uniques1)"
   ]
  },
  {
   "cell_type": "code",
   "execution_count": null,
   "id": "1cccb49a",
   "metadata": {},
   "outputs": [],
   "source": [
    "# кодируем массив, который начинается с Yes, с сортировкой кодов (уникальных значений) по алфавиту\n",
    "labels2, uniques2 = pd.factorize(['Yes', 'No', 'Yes', 'Yes', 'No', 'No'], sort=True)\n",
    "\n",
    "print(\"Пронумеровенные значения: \\n\", labels2)\n",
    "print(\"Уникальные коды: \\n\", uniques2)"
   ]
  },
  {
   "cell_type": "code",
   "execution_count": null,
   "id": "b6f08fcc",
   "metadata": {},
   "outputs": [],
   "source": [
    "# сначала создаём словарь\n",
    "x_dict = {'Yes' : 1,\n",
    "         'No' : 0}\n",
    "# теперь определяем x_to_factorize как столбец фрейма df_temp\n",
    "df_tmp = pd.DataFrame({'x_to_factorize': ['Yes', 'No', 'Yes', 'Yes', 'No', 'No']})\n",
    "# создаём столбец с кодами под названием x_factor с помощью map()\n",
    "df_tmp['x_factor'] = df_tmp.x_to_factorize.map(x_dict)\n",
    "\n",
    "df_tmp"
   ]
  },
  {
   "cell_type": "markdown",
   "id": "722453a7",
   "metadata": {},
   "source": [
    "---"
   ]
  },
  {
   "cell_type": "markdown",
   "id": "25fbd25b",
   "metadata": {},
   "source": [
    "## Предварительный анализ данных   "
   ]
  },
  {
   "cell_type": "markdown",
   "id": "d97604b9",
   "metadata": {},
   "source": [
    "В этой лабораторной для оценки точности моделей мы используем метод проверочной выборки. Создадим фреймы с обучающей и тестовой выборками (`DF_train` и `DF_test` соответственно), распределив наблюдения случайным образом в соотношении 80% и 20%.   "
   ]
  },
  {
   "cell_type": "code",
   "execution_count": null,
   "id": "e4ce2e99",
   "metadata": {},
   "outputs": [],
   "source": [
    "# обучающая выборка\n",
    "DF_train = DF.sample(frac = 0.8, random_state = my_seed)\n",
    "# тестовая выборка (методом исключения)\n",
    "DF_test = DF.drop(DF_train.index)\n",
    "\n",
    "# сколько наблюдений в обучающей выборке + подсчёт частот классов\n",
    "print(\"Число наблюдений во фрейме DF_train:\\n\", len(DF_train.index),\n",
    "     \"\\n\\nЧастоты классов defaultYes:\\n\",\n",
    "     np.around(DF_train.defaultYes.value_counts() / len(DF_train.index), 3), sep='')"
   ]
  },
  {
   "cell_type": "code",
   "execution_count": null,
   "id": "be8da2fa",
   "metadata": {},
   "outputs": [],
   "source": [
    "# сколько наблюдений в тестовой выборке + подсчёт частот классов\n",
    "print(\"Число наблюдений во фрейме DF_test:\\n\", len(DF_test.index),\n",
    "     \"\\n\\nЧастоты классов defaultYes:\\n\",\n",
    "     np.around(DF_test.defaultYes.value_counts() / len(DF_test.index), 3), sep='')"
   ]
  },
  {
   "cell_type": "markdown",
   "id": "e7190096",
   "metadata": {},
   "source": [
    "Посмотрим на разброс значений переменных и взаимосвязи между ними в обучающей выборке.   "
   ]
  },
  {
   "cell_type": "code",
   "execution_count": null,
   "id": "735f5533",
   "metadata": {},
   "outputs": [],
   "source": [
    "# создаём полотно и делим его на три части\n",
    "fig = plt.figure(figsize=(12,5))\n",
    "gs = mpl.gridspec.GridSpec(1, 4)\n",
    "ax1 = plt.subplot(gs[0,:-2])\n",
    "ax2 = plt.subplot(gs[0,-2])\n",
    "ax3 = plt.subplot(gs[0,-1])\n",
    "\n",
    "# график разброса\n",
    "ax1.scatter(DF_train[DF_train.default == 'Yes'].balance, \n",
    "            DF_train[DF_train.default == 'Yes'].income, \n",
    "            marker='+', linewidths=1, alpha=.8, s=60)\n",
    "ax1.scatter(DF_train[DF_train.default == 'No'].balance, \n",
    "            DF_train[DF_train.default == 'No'].income, marker='.', linewidths=1, alpha=.2, s=60)\n",
    "# подписи осей для графика разброса\n",
    "ax1.set_xlabel('Balance')\n",
    "ax1.set_ylabel('Income')\n",
    "\n",
    "# строим коробчатые\n",
    "sns.boxplot(x='default', y='balance', data=DF_train, orient='v', ax=ax2)\n",
    "sns.boxplot(x='default', y='income', data=DF_train, orient='v', ax=ax3)\n",
    "\n",
    "# корректируем расположение графиков на полотне\n",
    "gs.tight_layout(plt.gcf())"
   ]
  },
  {
   "cell_type": "markdown",
   "id": "f0bf5cff",
   "metadata": {},
   "source": [
    "## Логистическая регрессия  \n",
    "\n",
    "Классифицируем наблюдения по классам из `defaultYes` с помощью логистической регрессии. В качестве объясняющей переменной возьмём `balance`.  \n",
    "\n",
    "### Строим модель с помощью пакета `scikit-learn`   \n",
    "\n",
    "Воспользуемся функцией `LogisticRegression()`.   "
   ]
  },
  {
   "cell_type": "code",
   "execution_count": null,
   "id": "19408ba5",
   "metadata": {},
   "outputs": [],
   "source": [
    "# данные для логистической выборки в формате, понятном функции LogisticRegression()\n",
    "X_train = DF_train.balance.values.reshape(-1, 1)\n",
    "y_train = DF_train.defaultYes\n",
    "\n",
    "# строим модель на обучающей\n",
    "fit_LR_1 = LogisticRegression(solver='newton-cg').fit(X=X_train, y=y_train)\n",
    "\n",
    "# коэффициенты модели\n",
    "print('Коэффициенты при объясняющих переменных:', np.around(fit_LR_1.coef_, 4),\n",
    "      '\\nКонстанта:', np.around(fit_LR_1.intercept_, 4))"
   ]
  },
  {
   "cell_type": "markdown",
   "id": "02336d61",
   "metadata": {},
   "source": [
    "### Строим модель с помощью пакета `statmodels`   \n",
    "\n",
    "Воспользуемся функцией `logit()`.   "
   ]
  },
  {
   "cell_type": "code",
   "execution_count": null,
   "id": "ac13a0f1",
   "metadata": {},
   "outputs": [],
   "source": [
    "fit_logit_1 = logit(str('defaultYes ~ balance'), DF_train).fit(solver='newton-cg')\n",
    "fit_logit_1.summary().tables[1]"
   ]
  },
  {
   "cell_type": "markdown",
   "id": "174632fb",
   "metadata": {},
   "source": [
    "Можно убедиться, что две функции строят на обучающей выборке одинаковые модели. При этом отчёт по функции `logit()` содержит P-значения (столбец P>|z|) для проверки гипотез о значимости параметров модели.   \n",
    "Изобразим модельные кривые на графике.  \n",
    "\n",
    "### График фактических и модельных вероятностей      "
   ]
  },
  {
   "cell_type": "code",
   "execution_count": null,
   "id": "6c8a8582",
   "metadata": {},
   "outputs": [],
   "source": [
    "# данные тестовой выборки \n",
    "X_test = DF_test.balance.values.reshape(-1, 1)\n",
    "y_test = DF_test.defaultYes\n",
    "\n",
    "# равноотстоящие координаты balance по возрастанию (для графика модельных значений)\n",
    "x_line_train = np.linspace(DF_train.balance.min(), DF_train.balance.max(), 2000).reshape(-1, 1)\n",
    "x_line_test = np.linspace(DF_test.balance.min(), DF_test.balance.max(), 2000).reshape(-1, 1)\n",
    "\n",
    "# прогноз вероятностей для обучающей\n",
    "y_line_train = fit_LR_1.predict_proba(x_line_train)"
   ]
  },
  {
   "cell_type": "markdown",
   "id": "bd3cbacd",
   "metadata": {},
   "source": [
    "Посмотрим на содержимое объекта `y_line_train` с прогнозными значениями. Из таблицы ниже очевидно, что столбцы содержат прогнозы вероятностей классов. Это прогноз для 2000 равноотстоящих координат модельной кривой по горизонтальной оси, поэтому можно видеть, как при движении по строкам фрейма сверху вниз плавно меняются принадлежности классов от `No` (значения из столбца 0 превышают значения из столбца 1) до `Yes` (наоборот).  "
   ]
  },
  {
   "cell_type": "code",
   "execution_count": null,
   "id": "6d80c4de",
   "metadata": {},
   "outputs": [],
   "source": [
    "pd.DataFrame(y_line_train)"
   ]
  },
  {
   "cell_type": "code",
   "execution_count": null,
   "id": "332ef4f7",
   "metadata": {},
   "outputs": [],
   "source": [
    "# прогноз вероятностей для тестовой\n",
    "y_line_test = fit_LR_1.predict_proba(x_line_test)\n",
    "\n",
    "# график логистической регрессии\n",
    "fig, (ax1, ax2) = plt.subplots(1,2, figsize=(12,5))\n",
    "\n",
    "# палитра\n",
    "clrs = sns.color_palette('Set2')\n",
    "\n",
    "# график для обучающей выборки\n",
    "#  фактические наблюдения\n",
    "ax1.scatter(X_train, y_train, marker='|', color=clrs[0], alpha=0.6, label='факт')\n",
    "#  модельная кривая\n",
    "ax1.plot(x_line_train, y_line_train[:, 1], linestyle='solid', color=clrs[1], label='модель')\n",
    "#  заголовок\n",
    "ax1.set_title('Обучающая выборка')\n",
    "\n",
    "# график для тестовой выборки\n",
    "#  фактические наблюдения\n",
    "ax2.scatter(X_test, y_test, marker='|', color=clrs[0], lw=2, alpha=0.6, label='факт')\n",
    "#  модельная кривая\n",
    "ax2.plot(x_line_test, y_line_test[:, 1], linestyle='solid', lw=2, color=clrs[1], label='модель')\n",
    "#  заголовок\n",
    "ax2.set_title('Тестовая выборка')\n",
    "\n",
    "# дополнительные настройки графиков\n",
    "for ax in fig.axes:\n",
    "    #  линиии вероятностей P=0 и P=1\n",
    "    ax.hlines(1, xmin=ax.xaxis.get_data_interval()[0],\n",
    "              xmax=ax.xaxis.get_data_interval()[1], linestyles='dashed', lw=1, color='grey')\n",
    "    ax.hlines(0, xmin=ax.xaxis.get_data_interval()[0],\n",
    "              xmax=ax.xaxis.get_data_interval()[1], linestyles='dashed', lw=1, color='grey')\n",
    "    #  подписи осей\n",
    "    ax.set_ylabel('P(default=Yes)')\n",
    "    ax.set_xlabel('Balance')\n",
    "    #  легенда\n",
    "    ax.legend(loc='center left')"
   ]
  },
  {
   "cell_type": "markdown",
   "id": "3b5099b4",
   "metadata": {},
   "source": [
    "### Выбор лучшей модели множественной логистической регрессии   \n",
    "\n",
    "Теперь построим множественную логистическую регрессию.   "
   ]
  },
  {
   "cell_type": "code",
   "execution_count": null,
   "id": "0dbe7529",
   "metadata": {},
   "outputs": [],
   "source": [
    "fit_logit_2 = logit(str('defaultYes ~ studentYes + balance + income'), DF_train).fit(solver='newton-cg')\n",
    "fit_logit_2.summary().tables[1]"
   ]
  },
  {
   "cell_type": "markdown",
   "id": "40159a79",
   "metadata": {},
   "source": [
    "Исключим незначимую объясняющую `income`.   "
   ]
  },
  {
   "cell_type": "code",
   "execution_count": null,
   "id": "9b63367e",
   "metadata": {},
   "outputs": [],
   "source": [
    "fit_logit_3 = logit(str('defaultYes ~ studentYes + balance'), DF_train).fit(solver='newton-cg')\n",
    "fit_logit_3.summary().tables[1]"
   ]
  },
  {
   "cell_type": "markdown",
   "id": "d663040d",
   "metadata": {},
   "source": [
    "Пробуем модель со взаимодействием `student` и `balance`.  "
   ]
  },
  {
   "cell_type": "code",
   "execution_count": null,
   "id": "0556100a",
   "metadata": {},
   "outputs": [],
   "source": [
    "fit_logit_4 = logit(str('defaultYes ~ studentYes + studentYes * balance'), DF_train).fit(solver='newton-cg')\n",
    "fit_logit_4.summary().tables[1]"
   ]
  },
  {
   "cell_type": "code",
   "execution_count": null,
   "id": "f7fbbf5e",
   "metadata": {},
   "outputs": [],
   "source": [
    "# сводим в таблицу характеристики качества моделей\n",
    "#  пустые массивы для будущих столбцов\n",
    "mdls = [\"\" for x in range(4)]\n",
    "aics = np.zeros(4)\n",
    "tprs = np.zeros(4)\n",
    "spcs = np.zeros(4)\n",
    "\n",
    "#  цикл по построенным моделям\n",
    "fits_loop = [fit_logit_1, fit_logit_2, fit_logit_3, fit_logit_4]\n",
    "for fit in fits_loop :\n",
    "    #  номер текущей модели в списке\n",
    "    i = fits_loop.index(fit)\n",
    "    #  объясняющие переменные модели\n",
    "    mdls[i] = ' '.join(fit.pvalues.index[1:])\n",
    "    #  значения AIC\n",
    "    aics[i] = np.around(fit.aic, 2)\n",
    "    #  делаем прогноз на тестовую\n",
    "    y_hat_test = fit.predict(DF_test)\n",
    "    y_hat_test = (y_hat_test > 0.5).astype(int)\n",
    "    #  значения TPR на тестовой\n",
    "    tprs[i] = np.around(precision_score(y_test, y_hat_test), 3)\n",
    "    #  значения SPC на тестовой\n",
    "    spcs[i] = np.around(precision_recall_fscore_support(y_test, y_hat_test, average='binary')[1], 3)\n",
    "    \n",
    "df_summary = pd.DataFrame({'Объясняющие переменные': mdls, 'AIC': aics,\n",
    "                          'TPR_test': tprs, 'SPC_test': spcs})\n",
    "df_summary"
   ]
  },
  {
   "cell_type": "markdown",
   "id": "6d7b39e5",
   "metadata": {},
   "source": [
    "Проанализируем таблицу. Наилучшей моделью по информационному критерию Акаике является модель зависимости `defaultYes` от `studentYes` и `balance` (модель №3, наименьшее значение $AIC$ ). Значение чувствительности на тестовой выборке ($TPR_{test}$) у неё также наилучшее. По специфичности ($SPC_{test}$) модель №4 (с переменной константой при `balance`) немного лучше остальных, однако отличие несущественное.  \n",
    "В итоге стоит остановиться на третьей модели.\n",
    "Перестроим её с помощью `LogisticRegression()`.   \n",
    "\n",
    "### Перестраиваем лучшую модель с `LogisticRegression()`  "
   ]
  },
  {
   "cell_type": "code",
   "execution_count": null,
   "id": "e8c53bf3",
   "metadata": {},
   "outputs": [],
   "source": [
    "# строим модель на обучающей\n",
    "X_train_LR_2 = DF_train[['studentYes', 'balance']]\n",
    "fit_LR_2 = LogisticRegression(solver='newton-cg').fit(X=X_train_LR_2, y=y_train)"
   ]
  },
  {
   "cell_type": "code",
   "execution_count": null,
   "id": "b31dac2b",
   "metadata": {},
   "outputs": [],
   "source": [
    "# коэффициенты\n",
    "fit_LR_2.coef_"
   ]
  },
  {
   "cell_type": "code",
   "execution_count": null,
   "id": "966345e9",
   "metadata": {},
   "outputs": [],
   "source": [
    "# константа\n",
    "fit_LR_2.intercept_"
   ]
  },
  {
   "cell_type": "code",
   "execution_count": null,
   "id": "409abe0a",
   "metadata": {},
   "outputs": [],
   "source": [
    "# прогноз\n",
    "X_test_LR_2 = DF_test[['studentYes', 'balance']]\n",
    "# визуализация матрицы неточностей\n",
    "plot_confusion_matrix(fit_LR_2, X_test_LR_2, y_test, cmap='YlGnBu')\n",
    "plt.show()"
   ]
  },
  {
   "cell_type": "code",
   "execution_count": null,
   "id": "eae865d3",
   "metadata": {},
   "outputs": [],
   "source": [
    "# отчёт по точности на тестовой\n",
    "y_prob_test_LR_2 = fit_LR_2.predict_proba(X_test_LR_2).reshape(2, -1)[1]\n",
    "y_hat_test = (y_prob_test_LR_2 > 0.5).astype(int)\n",
    "print('Модель логистической регрессии от studentYes, balance с порогом 0.5 : \\n',\n",
    "      classification_report(y_test, y_hat_test))"
   ]
  },
  {
   "cell_type": "markdown",
   "id": "fdfb2f3a",
   "metadata": {},
   "source": [
    "В последнем отчёте метрики качества рассчитаны для каждого класса. Для бинарной классификации:  \n",
    "* в столбце `recall` для класса 1 стоит чувствительность, а для класса 0 – специфичность.  \n",
    "* в столбце `precision` для класса 1 стоит ценность положительного прогноза, а для класса 0 – отрицательного.  "
   ]
  },
  {
   "cell_type": "markdown",
   "id": "ac5c2c5d",
   "metadata": {},
   "source": [
    "---"
   ]
  },
  {
   "cell_type": "markdown",
   "id": "fb5b0c88",
   "metadata": {},
   "source": [
    "📚 **Подробнее о прогнозе по модели логистической регрессии**   \n",
    "\n",
    "Выше при заполнении таблицы со сводными характеристиками моделей мы воспользовались методом `logit.predict()`. В учебных целях воспроизведём вручную вычисления, чтобы проверить, что именно выдаёт нам эта функция.  \n",
    "Для начала на примере первой модели (`fit_logit_1`) убедимся, что прогнозы методом `logit.predict()` совпадают с прогнозами по формуле для вероятности логистической регрессии:   \n",
    "$$P(X) = {e^{X \\cdot \\hat{\\beta}} \\over (1 + e^{X \\cdot \\hat{\\beta}})}$$  \n",
    "Здесь $X$ – матрица объясняющих переменных для модели с константой ($n$ строк и $p + 1$ столбцов), $\\hat{\\beta}$ – вектор-столбец оценок параметров модели ($p + 1$ строк, 1 столбец); $n$ – число наблюдений, $p$ – количество объясняющих переменных модели.  \n",
    "Метод `logit.predict()` без аргументов возвращает прогнозы для наблюдений обучающей выборки. Чтобы сделать прогноз на тестовую, передадим ему в качестве аргумента фрейм с тестовой выборкой (`.predict(DF_test)`). Чтобы всё сработало, имена столбцов фреймов с обучающими и тестовыми наблюдениями должны совпадать.   "
   ]
  },
  {
   "cell_type": "code",
   "execution_count": null,
   "id": "4b2a9ad9",
   "metadata": {},
   "outputs": [],
   "source": [
    "# прогноз с помощью logit.predict()\n",
    "y_hat_test_1 = fit_logit_1.predict(DF_test)"
   ]
  },
  {
   "cell_type": "markdown",
   "id": "8f7d84c7",
   "metadata": {},
   "source": [
    "Теперь сделаем прогноз вручную, с помощью матричного умножения (функция `matmul()` из библиотеки `numpy`). Затем пересчитаем результат в вероятности.  "
   ]
  },
  {
   "cell_type": "code",
   "execution_count": null,
   "id": "0fa52605",
   "metadata": {},
   "outputs": [],
   "source": [
    "# снова создаём матрицу объясняющих для модели зависимости defaultYes от balance\n",
    "X_test = DF_test.balance.values.reshape(-1, 1)\n",
    "# прогноз вручную: y = X * beta, где X – матрица 2000 на 2, а beta – вектор-столбец 2 на 1\n",
    "y_hat_test = np.matmul(add_constant(X_test).reshape(-1, 2), fit_logit_1.params.to_numpy().reshape(-1, 1))\n",
    "# пересчитываем в вероятности\n",
    "y_hat_test = np.exp(y_hat_test) / (1 + np.exp(y_hat_test))"
   ]
  },
  {
   "cell_type": "markdown",
   "id": "8291471b",
   "metadata": {},
   "source": [
    "Совместим результаты прогноза разными методами в одном фрейме.   "
   ]
  },
  {
   "cell_type": "code",
   "execution_count": null,
   "id": "5c978345",
   "metadata": {},
   "outputs": [],
   "source": [
    "pd.DataFrame({'Прогноз P(X) функцией predict': y_hat_test_1,\n",
    "              'Прогноз P(X) вручную': y_hat_test.reshape(-1)})"
   ]
  },
  {
   "cell_type": "markdown",
   "id": "02b5116e",
   "metadata": {},
   "source": [
    "Как видно, прогнозы вероятностей полностью совпадают. Теперь получим из вероятностей метки классов, используя стандартный порог отсечения 0.5, и найдём прогнозные и фактические частоты классов в тестовой выборке.  "
   ]
  },
  {
   "cell_type": "code",
   "execution_count": null,
   "id": "8bee5864",
   "metadata": {},
   "outputs": [],
   "source": [
    "# перекодируем в 0 и 1, граница отсечения 0.5\n",
    "y_hat_test = (y_hat_test > 0.5).astype(int)"
   ]
  },
  {
   "cell_type": "code",
   "execution_count": null,
   "id": "5aac4fbd",
   "metadata": {},
   "outputs": [],
   "source": [
    "# считаем матрицу неточностей\n",
    "cm = confusion_matrix(y_test, y_hat_test)\n",
    "# рисуем матрицу в виде тепловой карты\n",
    "sns.heatmap(cm, annot=True, \n",
    "            fmt='g', linewidths=0.5, cmap='BrBG', alpha=0.7)\n",
    "plt.ylabel('Факт')\n",
    "plt.xlabel('Прогноз')\n",
    "plt.show()"
   ]
  },
  {
   "cell_type": "markdown",
   "id": "65af275e",
   "metadata": {},
   "source": [
    "---"
   ]
  },
  {
   "cell_type": "markdown",
   "id": "acac18f8",
   "metadata": {},
   "source": [
    "## ROC-кривая  и подбор порога отсечения \n",
    "\n",
    "Чтобы настроить порог отсечения классов, построим для данной модели ROC-кривую.   "
   ]
  },
  {
   "cell_type": "code",
   "execution_count": null,
   "id": "eeffbf67",
   "metadata": {},
   "outputs": [],
   "source": [
    "from sklearn.metrics import plot_roc_curve\n",
    "plot_roc_curve(fit_LR_2, X_test_LR_2, y_test)\n",
    "plt.show()"
   ]
  },
  {
   "cell_type": "markdown",
   "id": "c3a202e6",
   "metadata": {},
   "source": [
    "Чтобы выбрать оптимальный порог отсечения формально, получим координаты ROC-кривой с помощью функции `roc_curve()`, а затем свернём их с помощью J-статистики Юдена, которая рассчитывается по формуле:  \n",
    "$$J = TPR + SPC - 1 = TPR - FPR$$\n",
    "Когда чувствительность и специфичность модели максимальны, J-статистика также принимает максимальное значение."
   ]
  },
  {
   "cell_type": "code",
   "execution_count": null,
   "id": "fa7e3d9b",
   "metadata": {},
   "outputs": [],
   "source": [
    "# рассчитываем координаты ROC-кривой\n",
    "fpr, tpr, thresholds = roc_curve(y_test, y_prob_test_LR_2)\n",
    "\n",
    "# считаем J-статистику Юдена = TPR - FPR\n",
    "j_scores = tpr - fpr\n",
    "\n",
    "df_roc = pd.DataFrame({'TPR': tpr, 'SPC': 1-fpr, 'Порог отсечения': thresholds})\n",
    "# находим оптимум по максимуму J-статистики\n",
    "df_roc[j_scores == np.max(j_scores)]"
   ]
  },
  {
   "cell_type": "code",
   "execution_count": null,
   "id": "931930ad",
   "metadata": {},
   "outputs": [],
   "source": [
    "thr = df_roc[j_scores == np.max(j_scores)]['Порог отсечения'].to_numpy()\n",
    "# прогноз с новой границей отсечения\n",
    "y_hat_test = (y_prob_test_LR_2 > thr).astype(int)\n",
    "# отчёт по точности на тестовой\n",
    "print('Модель логистической регрессии от studentYes, balance с порогом', np.around(thr, 4), ': \\n', \n",
    "      classification_report(y_test, y_hat_test))"
   ]
  },
  {
   "cell_type": "markdown",
   "id": "ffac5516",
   "metadata": {},
   "source": [
    "Если сравнить с отчётом по модели с порогом отсечения 0.5, который был получен выше, можно увидеть, что чуда не произошло: ценность прогнозов (столбец `precision`) слегка повысилась, в то время как баланс между специфичностью и чувствительностью (столбец `recall`) сместился в пользу последней. Подбор порога отсечения позволяет вытянуть $TPR$ в ущерб $SPC$ или наоборот, но не то и другое одновременно.\n",
    "\n",
    "Второй способ настройки порога отсечения – взять в качестве порога априорную долю наименьшего класса в обучающей выборке."
   ]
  },
  {
   "cell_type": "code",
   "execution_count": null,
   "id": "30a20d9a",
   "metadata": {},
   "outputs": [],
   "source": [
    "thr = np.min(DF_train.defaultYes.value_counts() / len(DF_train.index))\n",
    "# прогноз с новой границей отсечения\n",
    "y_hat_test = (y_prob_test_LR_2 > thr).astype(int)\n",
    "# отчёт по точности на тестовой\n",
    "print('Модель логистической регрессии от studentYes, balance с порогом', np.around(thr, 4), ': \\n', \n",
    "      classification_report(y_test, y_hat_test))"
   ]
  },
  {
   "cell_type": "markdown",
   "id": "9df05ed0",
   "metadata": {},
   "source": [
    "## Линейный дискриминантный анализ (LDA)   \n",
    "\n",
    "Для начала посмотрим на гистограммы распределения непрерывных объясняющих переменных и проверим их на нормальность.   "
   ]
  },
  {
   "cell_type": "code",
   "execution_count": null,
   "id": "e9f91d64",
   "metadata": {},
   "outputs": [],
   "source": [
    "# статистический тест Шапиро-Уилка на нормальность для объясняющих переменных внутри классов\n",
    "for col in ['balance', 'income']:\n",
    "    stat, p = shapiro(DF_train[DF_train.defaultYes == 1][col])\n",
    "    print(col, '| defaultYes : 1\\n', \n",
    "          'Statistics=%.2f, p=%.4f' % (stat, p))\n",
    "    # интерпретация\n",
    "    alpha = 0.05\n",
    "    if p > alpha:\n",
    "        print('Распределение нормально (H0 не отклоняется)\\n')\n",
    "    else:\n",
    "        print('Распределение не нормально (H0 отклоняется)\\n')\n",
    "    \n",
    "    stat, p = shapiro(DF_train[DF_train.defaultYes == 0][col])\n",
    "    print(col, '| defaultYes : 0\\n', \n",
    "          'Statistics=%.2f, p=%.4f' % (stat, p))\n",
    "    # интерпретация\n",
    "    alpha = 0.05\n",
    "    if p > alpha:\n",
    "        print('Распределение нормально (H0 не отклоняется)\\n')\n",
    "    else:\n",
    "        print('Распределение не нормально (H0 отклоняется)\\n')"
   ]
  },
  {
   "cell_type": "markdown",
   "id": "d1146234",
   "metadata": {},
   "source": [
    "Применив функцию `shapiro()` к столбцам фрейма с обучающей выборкой, мы получили предупреждение о том, что рассчитанное p-значение может быть ненадёжно, поскольку наблюдений больше 5000. При этом p-значения говорят нам, что нормально распределён только показатель `balance` в классе `defaultYes = 1`.\n",
    "Проверим гипотезы о нормальности с помощью теста Лиллиефорса. Его мощность ниже, чем теста Шапиро, но у него нет ограничения на количество наблюдений.  "
   ]
  },
  {
   "cell_type": "code",
   "execution_count": null,
   "id": "2e3e3fa6",
   "metadata": {},
   "outputs": [],
   "source": [
    "# тест Лиллиефорса на нормальность\n",
    "for col in ['balance', 'income']:\n",
    "    stat, p = lilliefors(DF_train[DF_train.defaultYes == 1][col])\n",
    "    print(col, '| defaultYes : 1\\n', \n",
    "          'Statistics=%.2f, p=%.4f' % (stat, p))\n",
    "    # интерпретация\n",
    "    alpha = 0.05\n",
    "    if p > alpha:\n",
    "        print('Распределение нормально (H0 не отклоняется)\\n')\n",
    "    else:\n",
    "        print('Распределение не нормально (H0 отклоняется)\\n')\n",
    "        \n",
    "    stat, p = lilliefors(DF_train[DF_train.defaultYes == 0][col])\n",
    "    print(col, '| defaultYes : 0\\n', \n",
    "          'Statistics=%.2f, p=%.4f' % (stat, p))\n",
    "    # интерпретация\n",
    "    alpha = 0.05\n",
    "    if p > alpha:\n",
    "        print('Распределение нормально (H0 не отклоняется)\\n')\n",
    "    else:\n",
    "        print('Распределение не нормально (H0 отклоняется)\\n')"
   ]
  },
  {
   "cell_type": "markdown",
   "id": "1781a310",
   "metadata": {},
   "source": [
    "Итак, второй тест дал нам те же выводы о нормальности. Из этого следует, что допущения линейного дискриминантного анализа для наших данных не выполняются, и модель будет смещённой. **Далее построим модели LDA и QDA исключительно в учебных целях.**\n",
    "\n",
    "Построим модель LDA на обучающей выборке, используя все непрерывные объясняющие переменные.  "
   ]
  },
  {
   "cell_type": "code",
   "execution_count": null,
   "id": "0df62667",
   "metadata": {},
   "outputs": [],
   "source": [
    "y_train = DF_train['defaultYes']\n",
    "X_train = DF_train[['balance', 'income']]\n",
    "X_train.head(5)"
   ]
  },
  {
   "cell_type": "code",
   "execution_count": null,
   "id": "538f403e",
   "metadata": {},
   "outputs": [],
   "source": [
    "# обучаем модель\n",
    "fit_lda = LinearDiscriminantAnalysis().fit(X_train, y_train)\n",
    "\n",
    "# прогноз на тестовую\n",
    "X_test = DF_test[['balance', 'income']]\n",
    "y_hat_test = fit_lda.predict(X_test)"
   ]
  },
  {
   "cell_type": "code",
   "execution_count": null,
   "id": "7fcfa80e",
   "metadata": {},
   "outputs": [],
   "source": [
    "# априорные вероятности классов\n",
    "fit_lda.priors_"
   ]
  },
  {
   "cell_type": "code",
   "execution_count": null,
   "id": "2db13092",
   "metadata": {},
   "outputs": [],
   "source": [
    "# средние по классам\n",
    "fit_lda.means_"
   ]
  },
  {
   "cell_type": "code",
   "execution_count": null,
   "id": "6e05c092",
   "metadata": {},
   "outputs": [],
   "source": [
    "# отчёт по точности на тестовой\n",
    "print('Модель LDA от balance, income: \\n', classification_report(y_test, y_hat_test))"
   ]
  },
  {
   "cell_type": "markdown",
   "id": "82779920",
   "metadata": {},
   "source": [
    "## Квадратичный дискриминантный анализ (QDA)\n",
    "\n",
    "Построим модель QDA на обучающей выборке, используя все непрерывные объясняющие переменные. Матрица $X$ для обучающей и тестовой выборки останется такой же, как в модели LDA.    "
   ]
  },
  {
   "cell_type": "code",
   "execution_count": null,
   "id": "dfda939e",
   "metadata": {},
   "outputs": [],
   "source": [
    "# обучаем модель\n",
    "fit_qda = QuadraticDiscriminantAnalysis().fit(X_train, y_train)\n",
    "\n",
    "# прогноз на тестовую\n",
    "y_hat_test = fit_qda.predict(X_test)\n",
    "\n",
    "# отчёт по точности на тестовой\n",
    "print('Модель QDA от balance, income: \\n', classification_report(y_test, y_hat_test))"
   ]
  },
  {
   "cell_type": "markdown",
   "id": "4f45a3b2",
   "metadata": {},
   "source": [
    "Модели LDA и QDA оказались очень близки по точности на тестовой выборке.  "
   ]
  },
  {
   "cell_type": "markdown",
   "id": "af39298f",
   "metadata": {},
   "source": [
    "# Источники \n",
    "\n",
    "1. *James G., Witten D., Hastie T. and Tibshirani R.*  An Introduction to Statistical Learning with Applications in R. URL: [http://www-bcf.usc.edu/~gareth/ISL/ISLR%20First%20Printing.pdf](https://drive.google.com/file/d/15PdWDMf9hkfP8mrCzql_cNiX2eckLDRw/view?usp=sharing)     \n",
    "1. *Jordi Warmenhoven* ISLR-python / github.com. URL: <https://github.com/JWarmenhoven/ISLR-python>  \n",
    "1. Logistic Regression in Python / realpython.com. URL: <https://realpython.com/logistic-regression-python/>   \n",
    "1. The k-Nearest Neighbors (kNN) Algorithm in Python / realpython.com. URL: <https://realpython.com/knn-python/> \n",
    "1. Руководство по библиотеке Seaborn / из курса \"Python для анализа данных\" от Физтеха. URL: <https://mipt-stats.gitlab.io/courses/python/09_seaborn.html>  \n",
    "1. *Tony S. Yu* Matplotlib Style Gallery / tonysyu.github.io. URL: <http://tonysyu.github.io/raw_content/matplotlib-style-gallery/gallery.html>  \n",
    "1. Intro to data structures / pandas.pydata.org. URL: <https://pandas.pydata.org/pandas-docs/stable/user_guide/dsintro.html>  \n",
    "1. *Baijayanta Roy* All about Categorical Variable Encoding / towardsdatascience.com. URL: <https://towardsdatascience.com/all-about-categorical-variable-encoding-305f3361fd02>"
   ]
  }
 ],
 "metadata": {
  "kernelspec": {
   "display_name": "Python 3",
   "language": "python",
   "name": "python3"
  },
  "language_info": {
   "codemirror_mode": {
    "name": "ipython",
    "version": 3
   },
   "file_extension": ".py",
   "mimetype": "text/x-python",
   "name": "python",
   "nbconvert_exporter": "python",
   "pygments_lexer": "ipython3",
   "version": "3.8.8"
  }
 },
 "nbformat": 4,
 "nbformat_minor": 5
}
